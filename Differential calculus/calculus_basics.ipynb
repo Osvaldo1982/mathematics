{
 "cells": [
  {
   "cell_type": "code",
   "execution_count": 10,
   "metadata": {
    "ExecuteTime": {
     "end_time": "2020-04-25T12:09:44.152124Z",
     "start_time": "2020-04-25T12:09:44.148123Z"
    }
   },
   "outputs": [],
   "source": [
    "from sympy.solvers.pde import pdsolve\n",
    "from sympy import Function, diff, Eq\n",
    "from sympy.abc import x, y, z\n",
    "import sympy as sym"
   ]
  },
  {
   "cell_type": "code",
   "execution_count": 2,
   "metadata": {
    "ExecuteTime": {
     "end_time": "2020-04-25T12:07:31.042718Z",
     "start_time": "2020-04-25T12:07:31.031719Z"
    }
   },
   "outputs": [],
   "source": [
    "f = Function('f')\n",
    "u = f(x, y)\n",
    "\n",
    "ux = u.diff(x)\n",
    "uy = u.diff(y)"
   ]
  },
  {
   "cell_type": "code",
   "execution_count": 3,
   "metadata": {
    "ExecuteTime": {
     "end_time": "2020-04-25T12:07:40.156747Z",
     "start_time": "2020-04-25T12:07:40.143794Z"
    }
   },
   "outputs": [
    {
     "data": {
      "text/latex": [
       "$\\displaystyle \\frac{\\partial}{\\partial x} f{\\left(x,y \\right)}$"
      ],
      "text/plain": [
       "Derivative(f(x, y), x)"
      ]
     },
     "execution_count": 3,
     "metadata": {},
     "output_type": "execute_result"
    }
   ],
   "source": [
    "ux"
   ]
  },
  {
   "cell_type": "code",
   "execution_count": 4,
   "metadata": {
    "ExecuteTime": {
     "end_time": "2020-04-25T12:07:48.753785Z",
     "start_time": "2020-04-25T12:07:48.747785Z"
    }
   },
   "outputs": [
    {
     "data": {
      "text/latex": [
       "$\\displaystyle \\frac{\\partial}{\\partial y} f{\\left(x,y \\right)}$"
      ],
      "text/plain": [
       "Derivative(f(x, y), y)"
      ]
     },
     "execution_count": 4,
     "metadata": {},
     "output_type": "execute_result"
    }
   ],
   "source": [
    "uy"
   ]
  },
  {
   "cell_type": "code",
   "execution_count": 6,
   "metadata": {
    "ExecuteTime": {
     "end_time": "2020-04-25T12:08:10.034347Z",
     "start_time": "2020-04-25T12:08:09.807349Z"
    }
   },
   "outputs": [
    {
     "data": {
      "text/latex": [
       "$\\displaystyle 1 + \\frac{2 \\frac{\\partial}{\\partial x} f{\\left(x,y \\right)}}{f{\\left(x,y \\right)}} + \\frac{3 \\frac{\\partial}{\\partial y} f{\\left(x,y \\right)}}{f{\\left(x,y \\right)}} = 0$"
      ],
      "text/plain": [
       "Eq(1 + 2*Derivative(f(x, y), x)/f(x, y) + 3*Derivative(f(x, y), y)/f(x, y), 0)"
      ]
     },
     "execution_count": 6,
     "metadata": {},
     "output_type": "execute_result"
    }
   ],
   "source": [
    "eq = Eq(1 + (2*(ux/u)) + (3*(uy/u)), 0)\n",
    "eq"
   ]
  },
  {
   "cell_type": "code",
   "execution_count": 7,
   "metadata": {
    "ExecuteTime": {
     "end_time": "2020-04-25T12:08:16.895193Z",
     "start_time": "2020-04-25T12:08:16.856164Z"
    }
   },
   "outputs": [
    {
     "data": {
      "text/latex": [
       "$\\displaystyle f{\\left(x,y \\right)} = F{\\left(3 x - 2 y \\right)} e^{- \\frac{2 x}{13} - \\frac{3 y}{13}}$"
      ],
      "text/plain": [
       "Eq(f(x, y), F(3*x - 2*y)*exp(-2*x/13 - 3*y/13))"
      ]
     },
     "execution_count": 7,
     "metadata": {},
     "output_type": "execute_result"
    }
   ],
   "source": [
    "pdsolve(eq)"
   ]
  },
  {
   "cell_type": "markdown",
   "metadata": {},
   "source": [
    "# Other Example"
   ]
  },
  {
   "cell_type": "code",
   "execution_count": 87,
   "metadata": {
    "ExecuteTime": {
     "end_time": "2020-04-25T17:29:02.246921Z",
     "start_time": "2020-04-25T17:29:02.233140Z"
    }
   },
   "outputs": [],
   "source": [
    "x,y,z,c = sym.var('x , y , z, c')\n",
    "u = Function('u')\n",
    "w = Function('w')\n",
    "\n",
    "f = u(x, y, z)\n",
    "\n",
    "ux = f.diff(x)\n",
    "uy = f.diff(y)\n",
    "uz = f.diff(z)"
   ]
  },
  {
   "cell_type": "code",
   "execution_count": 88,
   "metadata": {
    "ExecuteTime": {
     "end_time": "2020-04-25T17:29:04.416507Z",
     "start_time": "2020-04-25T17:29:04.385495Z"
    }
   },
   "outputs": [
    {
     "data": {
      "text/latex": [
       "$\\displaystyle y \\frac{\\partial}{\\partial x} u{\\left(x,y,z \\right)} + z \\frac{\\partial}{\\partial y} u{\\left(x,y,z \\right)} + \\left(c^{2} - \\frac{x^{2}}{2} - y\\right) \\frac{\\partial}{\\partial z} u{\\left(x,y,z \\right)} = 0$"
      ],
      "text/plain": [
       "Eq(y*Derivative(u(x, y, z), x) + z*Derivative(u(x, y, z), y) + (c**2 - x**2/2 - y)*Derivative(u(x, y, z), z), 0)"
      ]
     },
     "execution_count": 88,
     "metadata": {},
     "output_type": "execute_result"
    }
   ],
   "source": [
    "eq = Eq(y * ux + z * uy + (c**2 - y - x**2/2) * uz, 0)\n",
    "eq"
   ]
  },
  {
   "cell_type": "code",
   "execution_count": 132,
   "metadata": {
    "ExecuteTime": {
     "end_time": "2020-04-25T17:43:55.407850Z",
     "start_time": "2020-04-25T17:43:55.397064Z"
    }
   },
   "outputs": [
    {
     "data": {
      "text/latex": [
       "$\\displaystyle e^{z \\left(c^{2} - \\frac{x^{2}}{2} - y\\right)}$"
      ],
      "text/plain": [
       "exp(z*(c**2 - x**2/2 - y))"
      ]
     },
     "execution_count": 132,
     "metadata": {},
     "output_type": "execute_result"
    }
   ],
   "source": [
    "u = sym.exp(z*(c**2 - y - x**2/2))\n",
    "u"
   ]
  },
  {
   "cell_type": "code",
   "execution_count": 133,
   "metadata": {
    "ExecuteTime": {
     "end_time": "2020-04-25T17:43:57.679032Z",
     "start_time": "2020-04-25T17:43:57.667605Z"
    }
   },
   "outputs": [
    {
     "data": {
      "text/latex": [
       "$\\displaystyle - x z e^{z \\left(c^{2} - \\frac{x^{2}}{2} - y\\right)}$"
      ],
      "text/plain": [
       "-x*z*exp(z*(c**2 - x**2/2 - y))"
      ]
     },
     "execution_count": 133,
     "metadata": {},
     "output_type": "execute_result"
    }
   ],
   "source": [
    "ux = u.diff(x)\n",
    "ux"
   ]
  },
  {
   "cell_type": "code",
   "execution_count": 134,
   "metadata": {
    "ExecuteTime": {
     "end_time": "2020-04-25T17:43:59.092428Z",
     "start_time": "2020-04-25T17:43:59.083040Z"
    }
   },
   "outputs": [
    {
     "data": {
      "text/latex": [
       "$\\displaystyle - z e^{z \\left(c^{2} - \\frac{x^{2}}{2} - y\\right)}$"
      ],
      "text/plain": [
       "-z*exp(z*(c**2 - x**2/2 - y))"
      ]
     },
     "execution_count": 134,
     "metadata": {},
     "output_type": "execute_result"
    }
   ],
   "source": [
    "uy = u.diff(y)\n",
    "uy"
   ]
  },
  {
   "cell_type": "code",
   "execution_count": 135,
   "metadata": {
    "ExecuteTime": {
     "end_time": "2020-04-25T17:44:00.422765Z",
     "start_time": "2020-04-25T17:44:00.411123Z"
    }
   },
   "outputs": [
    {
     "data": {
      "text/latex": [
       "$\\displaystyle \\left(c^{2} - \\frac{x^{2}}{2} - y\\right) e^{z \\left(c^{2} - \\frac{x^{2}}{2} - y\\right)}$"
      ],
      "text/plain": [
       "(c**2 - x**2/2 - y)*exp(z*(c**2 - x**2/2 - y))"
      ]
     },
     "execution_count": 135,
     "metadata": {},
     "output_type": "execute_result"
    }
   ],
   "source": [
    "uz = u.diff(z)\n",
    "uz"
   ]
  },
  {
   "cell_type": "code",
   "execution_count": 136,
   "metadata": {
    "ExecuteTime": {
     "end_time": "2020-04-25T17:44:02.941377Z",
     "start_time": "2020-04-25T17:44:02.629624Z"
    }
   },
   "outputs": [
    {
     "data": {
      "text/latex": [
       "$\\displaystyle \\left(- x y z - z^{2} + \\frac{\\left(- 2 c^{2} + x^{2} + 2 y\\right)^{2}}{4}\\right) e^{- \\frac{z \\left(- 2 c^{2} + x^{2} + 2 y\\right)}{2}}$"
      ],
      "text/plain": [
       "(-x*y*z - z**2 + (-2*c**2 + x**2 + 2*y)**2/4)*exp(-z*(-2*c**2 + x**2 + 2*y)/2)"
      ]
     },
     "execution_count": 136,
     "metadata": {},
     "output_type": "execute_result"
    }
   ],
   "source": [
    "expr = y * ux + z * uy + (c**2 - y - x**2/2) * uz\n",
    "sym.simplify(expr)"
   ]
  },
  {
   "cell_type": "code",
   "execution_count": null,
   "metadata": {},
   "outputs": [],
   "source": []
  }
 ],
 "metadata": {
  "hide_input": false,
  "kernelspec": {
   "display_name": "Python 3",
   "language": "python",
   "name": "python3"
  },
  "language_info": {
   "codemirror_mode": {
    "name": "ipython",
    "version": 3
   },
   "file_extension": ".py",
   "mimetype": "text/x-python",
   "name": "python",
   "nbconvert_exporter": "python",
   "pygments_lexer": "ipython3",
   "version": "3.7.3"
  },
  "latex_envs": {
   "LaTeX_envs_menu_present": true,
   "autoclose": false,
   "autocomplete": true,
   "bibliofile": "biblio.bib",
   "cite_by": "apalike",
   "current_citInitial": 1,
   "eqLabelWithNumbers": true,
   "eqNumInitial": 1,
   "hotkeys": {
    "equation": "Ctrl-E",
    "itemize": "Ctrl-I"
   },
   "labels_anchors": false,
   "latex_user_defs": false,
   "report_style_numbering": false,
   "user_envs_cfg": false
  },
  "toc": {
   "base_numbering": 1,
   "nav_menu": {},
   "number_sections": true,
   "sideBar": true,
   "skip_h1_title": false,
   "title_cell": "Table of Contents",
   "title_sidebar": "Contents",
   "toc_cell": false,
   "toc_position": {},
   "toc_section_display": true,
   "toc_window_display": false
  }
 },
 "nbformat": 4,
 "nbformat_minor": 4
}
