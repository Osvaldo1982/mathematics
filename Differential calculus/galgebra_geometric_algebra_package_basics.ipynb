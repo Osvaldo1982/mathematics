{
 "cells": [
  {
   "cell_type": "markdown",
   "metadata": {},
   "source": [
    "* https://docs.python.org/3/tutorial/inputoutput.html\n",
    "* https://docs.sympy.org/latest/tutorial/simplification.html\n",
    "* https://docs.sympy.org/latest/tutorial/simplification.html\n",
    "\n",
    "**Galgebra**\n",
    "* http://www.faculty.luther.edu/~macdonal/vagc/GAlgebraPrimer.pdf\n",
    "* https://python.hotexamples.com/examples/ga/Ga/build/python-ga-build-method-examples.html\n",
    "* https://galgebra.readthedocs.io/en/latest/\n",
    "* https://github.com/pygae/galgebra\n",
    "* https://python.hotexamples.com/examples/ga/Ga/build/python-ga-build-method-examples.html"
   ]
  },
  {
   "cell_type": "code",
   "execution_count": 8,
   "metadata": {
    "ExecuteTime": {
     "end_time": "2020-04-21T15:10:43.712939Z",
     "start_time": "2020-04-21T15:10:43.705944Z"
    },
    "colab": {},
    "colab_type": "code",
    "id": "GNi7B61MQBvG"
   },
   "outputs": [],
   "source": [
    "from sympy import symbols, sin, cos, Abs\n",
    "import numpy as np\n",
    "from galgebra.ga import Ga\n",
    "import printer as pr\n",
    "from sympy import init_printing\n",
    "from sympy import *\n",
    "init_printing()\n",
    "from sympy import symbols\n",
    "\n",
    "from galgebra.printer import Format\n",
    "Format(Fmode = False, Dmode = True)"
   ]
  },
  {
   "cell_type": "code",
   "execution_count": 9,
   "metadata": {
    "ExecuteTime": {
     "end_time": "2020-04-21T15:10:55.425936Z",
     "start_time": "2020-04-21T15:10:55.409960Z"
    },
    "colab": {
     "base_uri": "https://localhost:8080/",
     "height": 84
    },
    "colab_type": "code",
    "executionInfo": {
     "elapsed": 651,
     "status": "ok",
     "timestamp": 1570375300526,
     "user": {
      "displayName": "Osvaldo Pereira",
      "photoUrl": "",
      "userId": "02369127481776252107"
     },
     "user_tz": 180
    },
    "id": "wH1cWrTsQByB",
    "outputId": "af9170d3-8d39-44f5-b766-57a73a38ec89"
   },
   "outputs": [
    {
     "data": {
      "text/latex": [
       "$\\displaystyle \\left[\\begin{matrix}1 & 0 & 0\\\\0 & 1 & 0\\\\0 & 0 & 1\\end{matrix}\\right]$"
      ],
      "text/plain": [
       " \\left [ \\begin{array}{ccc} 1 & 0 & 0  \\\\ 0 & 1 & 0  \\\\ 0 & 0 & 1  \\end{array}\\right ] "
      ]
     },
     "execution_count": 9,
     "metadata": {},
     "output_type": "execute_result"
    }
   ],
   "source": [
    "xyz_coords = (x, y, z) = symbols('x y z', real=True)\n",
    "\n",
    "(o3d, ex, ey, ez) = Ga.build('e', g=[1, 1, 1], coords=xyz_coords, norm=True)\n",
    "\n",
    "o3d.g"
   ]
  },
  {
   "cell_type": "code",
   "execution_count": 10,
   "metadata": {
    "ExecuteTime": {
     "end_time": "2020-04-21T15:11:12.138362Z",
     "start_time": "2020-04-21T15:11:12.128364Z"
    },
    "colab": {
     "base_uri": "https://localhost:8080/",
     "height": 35
    },
    "colab_type": "code",
    "executionInfo": {
     "elapsed": 905,
     "status": "ok",
     "timestamp": 1570375303923,
     "user": {
      "displayName": "Osvaldo Pereira",
      "photoUrl": "",
      "userId": "02369127481776252107"
     },
     "user_tz": 180
    },
    "id": "7oaYph1CQB04",
    "outputId": "8b90a383-55af-4f24-fbcb-8d99d5fc7032"
   },
   "outputs": [
    {
     "data": {
      "text/latex": [
       "\\begin{equation*} f = f {\\left (x,y,z \\right )} \\end{equation*}"
      ],
      "text/plain": [
       "f {\\left (x,y,z \\right )}"
      ]
     },
     "execution_count": 10,
     "metadata": {},
     "output_type": "execute_result"
    }
   ],
   "source": [
    "f = o3d.mv('f', 'scalar', f=True)\n",
    "f"
   ]
  },
  {
   "cell_type": "code",
   "execution_count": 11,
   "metadata": {
    "ExecuteTime": {
     "end_time": "2020-04-21T15:11:22.469058Z",
     "start_time": "2020-04-21T15:11:22.457065Z"
    },
    "colab": {
     "base_uri": "https://localhost:8080/",
     "height": 61
    },
    "colab_type": "code",
    "executionInfo": {
     "elapsed": 623,
     "status": "ok",
     "timestamp": 1570375306718,
     "user": {
      "displayName": "Osvaldo Pereira",
      "photoUrl": "",
      "userId": "02369127481776252107"
     },
     "user_tz": 180
    },
    "id": "J9hW0nQGQB3e",
    "outputId": "91c63b0b-0182-45f2-f342-d94b8b6170f6"
   },
   "outputs": [
    {
     "data": {
      "text/latex": [
       "\\begin{equation*} \\nabla^{2} = \\frac{\\partial^{2}}{\\partial x^{2}} + \\frac{\\partial^{2}}{\\partial y^{2}} + \\frac{\\partial^{2}}{\\partial z^{2}} \\end{equation*}"
      ],
      "text/plain": [
       "\\frac{\\partial^{2}}{\\partial x^{2}} + \\frac{\\partial^{2}}{\\partial y^{2}} + \\frac{\\partial^{2}}{\\partial z^{2}}"
      ]
     },
     "execution_count": 11,
     "metadata": {},
     "output_type": "execute_result"
    }
   ],
   "source": [
    "F = o3d.mv('F', 'vector', f=True)\n",
    "\n",
    "lap = o3d.grad*o3d.grad\n",
    "\n",
    "lap.Fmt(1,r'\\nabla^{2}')"
   ]
  },
  {
   "cell_type": "code",
   "execution_count": 12,
   "metadata": {
    "ExecuteTime": {
     "end_time": "2020-04-21T15:11:26.928438Z",
     "start_time": "2020-04-21T15:11:26.922440Z"
    },
    "colab": {
     "base_uri": "https://localhost:8080/",
     "height": 61
    },
    "colab_type": "code",
    "executionInfo": {
     "elapsed": 915,
     "status": "ok",
     "timestamp": 1570370325938,
     "user": {
      "displayName": "Osvaldo Pereira",
      "photoUrl": "",
      "userId": "02369127481776252107"
     },
     "user_tz": 180
    },
    "id": "fQ8FuVZ7XWwR",
    "outputId": "5b83a898-ac4e-4c44-c875-1585ed942ed5"
   },
   "outputs": [
    {
     "data": {
      "text/latex": [
       "\\begin{equation*} \\nabla^{2} = \\frac{\\partial^{2}}{\\partial x^{2}} + \\frac{\\partial^{2}}{\\partial y^{2}} + \\frac{\\partial^{2}}{\\partial z^{2}} \\end{equation*}"
      ],
      "text/plain": [
       "\\frac{\\partial^{2}}{\\partial x^{2}} + \\frac{\\partial^{2}}{\\partial y^{2}} + \\frac{\\partial^{2}}{\\partial z^{2}}"
      ]
     },
     "execution_count": 12,
     "metadata": {},
     "output_type": "execute_result"
    }
   ],
   "source": [
    "lap.Fmt(1,r'\\nabla^{2}')"
   ]
  },
  {
   "cell_type": "code",
   "execution_count": 13,
   "metadata": {
    "ExecuteTime": {
     "end_time": "2020-04-21T15:11:30.969399Z",
     "start_time": "2020-04-21T15:11:30.906364Z"
    },
    "colab": {
     "base_uri": "https://localhost:8080/",
     "height": 38
    },
    "colab_type": "code",
    "executionInfo": {
     "elapsed": 891,
     "status": "ok",
     "timestamp": 1570370355023,
     "user": {
      "displayName": "Osvaldo Pereira",
      "photoUrl": "",
      "userId": "02369127481776252107"
     },
     "user_tz": 180
    },
    "id": "Qiwoa6SSXW8F",
    "outputId": "de52542f-3d32-476f-d09b-9d94a6e749c8"
   },
   "outputs": [
    {
     "data": {
      "text/latex": [
       "\\begin{equation*} \\nabla \\cdot (\\nabla f) = \\partial^{2}_{x} f {\\left (x,y,z \\right )} + \\partial^{2}_{y} f {\\left (x,y,z \\right )} + \\partial^{2}_{z} f {\\left (x,y,z \\right )} \\end{equation*}"
      ],
      "text/plain": [
       "\\partial^{2}_{x} f {\\left (x,y,z \\right )} + \\partial^{2}_{y} f {\\left (x,y,z \\right )} + \\partial^{2}_{z} f {\\left (x,y,z \\right )}"
      ]
     },
     "execution_count": 13,
     "metadata": {},
     "output_type": "execute_result"
    }
   ],
   "source": [
    "lapf = o3d.grad | (o3d.grad * f)\n",
    "\n",
    "lapf.Fmt(1,r'\\nabla \\cdot (\\nabla f)')"
   ]
  },
  {
   "cell_type": "code",
   "execution_count": 14,
   "metadata": {
    "ExecuteTime": {
     "end_time": "2020-04-21T15:12:00.333306Z",
     "start_time": "2020-04-21T15:12:00.313303Z"
    },
    "colab": {
     "base_uri": "https://localhost:8080/",
     "height": 36
    },
    "colab_type": "code",
    "executionInfo": {
     "elapsed": 898,
     "status": "ok",
     "timestamp": 1570373601480,
     "user": {
      "displayName": "Osvaldo Pereira",
      "photoUrl": "",
      "userId": "02369127481776252107"
     },
     "user_tz": 180
    },
    "id": "-4uyvXKYXNsm",
    "outputId": "4233fb1f-9093-4259-a757-f014d21ece8b"
   },
   "outputs": [
    {
     "data": {
      "text/latex": [
       "$\\displaystyle e^{x} \\sin{\\left(x \\right)} + e^{x} \\cos{\\left(x \\right)}$"
      ],
      "text/plain": [
       " x           x       \n",
       "ℯ ⋅sin(x) + ℯ ⋅cos(x)"
      ]
     },
     "execution_count": 14,
     "metadata": {},
     "output_type": "execute_result"
    }
   ],
   "source": [
    "x, y, z, t = symbols('x y z t')\n",
    "k, m, n = symbols('k m n', integer=True)\n",
    "f, g, h = symbols('f g h', cls=Function)\n",
    "\n",
    "diff(sin(x)*exp(x), x)"
   ]
  },
  {
   "cell_type": "code",
   "execution_count": 15,
   "metadata": {
    "ExecuteTime": {
     "end_time": "2020-04-21T15:12:08.811333Z",
     "start_time": "2020-04-21T15:12:08.754373Z"
    },
    "colab": {
     "base_uri": "https://localhost:8080/",
     "height": 55
    },
    "colab_type": "code",
    "executionInfo": {
     "elapsed": 616,
     "status": "ok",
     "timestamp": 1570375770681,
     "user": {
      "displayName": "Osvaldo Pereira",
      "photoUrl": "",
      "userId": "02369127481776252107"
     },
     "user_tz": 180
    },
    "id": "nxZAhjjpp7yB",
    "outputId": "a6b04582-9422-4f0e-ade1-cfb8dbe03e2e"
   },
   "outputs": [
    {
     "data": {
      "text/latex": [
       "$\\displaystyle \\frac{a^{n} - x^{n}}{a - x}$"
      ],
      "text/plain": [
       " n    n\n",
       "a  - x \n",
       "───────\n",
       " a - x "
      ]
     },
     "execution_count": 15,
     "metadata": {},
     "output_type": "execute_result"
    }
   ],
   "source": [
    "a,n,b = symbols('a n b')\n",
    "\n",
    "simplify((x**n - a**n)/(x-a))"
   ]
  },
  {
   "cell_type": "code",
   "execution_count": 16,
   "metadata": {
    "ExecuteTime": {
     "end_time": "2020-04-21T15:12:13.302981Z",
     "start_time": "2020-04-21T15:12:13.294978Z"
    },
    "colab": {
     "base_uri": "https://localhost:8080/",
     "height": 55
    },
    "colab_type": "code",
    "executionInfo": {
     "elapsed": 628,
     "status": "ok",
     "timestamp": 1570376139257,
     "user": {
      "displayName": "Osvaldo Pereira",
      "photoUrl": "",
      "userId": "02369127481776252107"
     },
     "user_tz": 180
    },
    "id": "WRwJk79EsQVP",
    "outputId": "bf54d8bc-f341-4796-eeac-ab28dce917bf"
   },
   "outputs": [
    {
     "data": {
      "text/latex": [
       "$\\displaystyle \\frac{- a^{n} + x^{n}}{- a + x}$"
      ],
      "text/plain": [
       "   n    n\n",
       "- a  + x \n",
       "─────────\n",
       "  -a + x "
      ]
     },
     "execution_count": 16,
     "metadata": {},
     "output_type": "execute_result"
    }
   ],
   "source": [
    "g = (x**n - a**n)/(x-a)\n",
    "\n",
    "g"
   ]
  },
  {
   "cell_type": "code",
   "execution_count": 17,
   "metadata": {
    "ExecuteTime": {
     "end_time": "2020-04-21T15:12:22.119963Z",
     "start_time": "2020-04-21T15:12:22.105968Z"
    },
    "colab": {
     "base_uri": "https://localhost:8080/",
     "height": 37
    },
    "colab_type": "code",
    "executionInfo": {
     "elapsed": 800,
     "status": "ok",
     "timestamp": 1570376741569,
     "user": {
      "displayName": "Osvaldo Pereira",
      "photoUrl": "",
      "userId": "02369127481776252107"
     },
     "user_tz": 180
    },
    "id": "UTGNQglTtmDL",
    "outputId": "455ae264-2457-48db-e917-f3c86a5a578a"
   },
   "outputs": [
    {
     "data": {
      "text/latex": [
       "$\\displaystyle - a^{3} + 3 a^{2} x - 3 a x^{2} + x^{3}$"
      ],
      "text/plain": [
       "   3      2          2    3\n",
       "- a  + 3⋅a ⋅x - 3⋅a⋅x  + x "
      ]
     },
     "execution_count": 17,
     "metadata": {},
     "output_type": "execute_result"
    }
   ],
   "source": [
    "expand((x-a)**3)"
   ]
  },
  {
   "cell_type": "code",
   "execution_count": null,
   "metadata": {},
   "outputs": [],
   "source": []
  }
 ],
 "metadata": {
  "colab": {
   "collapsed_sections": [],
   "name": "example galgebra.ipynb",
   "provenance": []
  },
  "hide_input": false,
  "kernelspec": {
   "display_name": "Python 3",
   "language": "python",
   "name": "python3"
  },
  "language_info": {
   "codemirror_mode": {
    "name": "ipython",
    "version": 3
   },
   "file_extension": ".py",
   "mimetype": "text/x-python",
   "name": "python",
   "nbconvert_exporter": "python",
   "pygments_lexer": "ipython3",
   "version": "3.7.3"
  },
  "latex_envs": {
   "LaTeX_envs_menu_present": true,
   "autoclose": false,
   "autocomplete": true,
   "bibliofile": "biblio.bib",
   "cite_by": "apalike",
   "current_citInitial": 1,
   "eqLabelWithNumbers": true,
   "eqNumInitial": 1,
   "hotkeys": {
    "equation": "Ctrl-E",
    "itemize": "Ctrl-I"
   },
   "labels_anchors": false,
   "latex_user_defs": false,
   "report_style_numbering": false,
   "user_envs_cfg": false
  },
  "toc": {
   "base_numbering": 1,
   "nav_menu": {},
   "number_sections": true,
   "sideBar": true,
   "skip_h1_title": false,
   "title_cell": "Table of Contents",
   "title_sidebar": "Contents",
   "toc_cell": false,
   "toc_position": {},
   "toc_section_display": true,
   "toc_window_display": false
  }
 },
 "nbformat": 4,
 "nbformat_minor": 1
}
