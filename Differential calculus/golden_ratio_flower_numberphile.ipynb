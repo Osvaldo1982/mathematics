{
 "cells": [
  {
   "cell_type": "code",
   "execution_count": 34,
   "metadata": {
    "ExecuteTime": {
     "end_time": "2020-02-09T14:56:29.848777Z",
     "start_time": "2020-02-09T14:56:29.557134Z"
    }
   },
   "outputs": [
    {
     "data": {
      "image/png": "[encoded data removed]",
      "text/plain": [
       "<Figure size 432x288 with 1 Axes>"
      ]
     },
     "metadata": {
      "needs_background": "light"
     },
     "output_type": "display_data"
    }
   ],
   "source": [
    "from scipy import *\n",
    "import matplotlib.pyplot as plt\n",
    "\n",
    "\"\"\"\n",
    "Inspired by Numberphile video on the Golden Ratio:\n",
    "https://www.youtube.com/watch?v=sj8Sg8qnjOg&t=311s\n",
    "I wrote a short script to generate a \"Golden Ratio Flower\" as described in the \n",
    "Numberphile video in the youtube link.\n",
    "\"\"\"\n",
    "\n",
    "phi=(1+sqrt(5))/2.0\n",
    "\n",
    "NTURNS=pi #number of turns for each seed placement\n",
    "theta=360.0/NTURNS \n",
    "theta=theta*pi/180.0\n",
    "R=array([[cos(theta),-sin(theta)],[sin(theta),cos(theta)]]) #rotation matrix\n",
    "x=[] #to hold the data\n",
    "y=[]\n",
    "D=1\n",
    "x.append(D) #Choose starting point to be (1,0), although theoretically\n",
    "y.append(0) #any starting point should work just as fine.\n",
    "NTRIES=int(NTURNS)*100 #Use as many seeds as possible to make a nice dense flower.\n",
    "L=1 #scaling factor because seeds cannot lie on top of each other.\n",
    "count=0\n",
    "for i in range(NTRIES):\n",
    "    [X,Y]=dot(R,array([x[i],y[i]]))\n",
    "    count=count+1\n",
    "    if count>=NTURNS:\n",
    "        count=0\n",
    "        L=L+D\n",
    "        [X,Y]=dot(L*eye(2),array([X,Y])/sqrt(X**2+Y**2))\n",
    "    x.append(X)\n",
    "    y.append(Y) \n",
    "plt.plot(x,y,'k.')\n",
    "plt.axis('equal')\n",
    "plt.show()"
   ]
  }
 ],
 "metadata": {
  "kernelspec": {
   "display_name": "Python 3",
   "language": "python",
   "name": "python3"
  },
  "language_info": {
   "codemirror_mode": {
    "name": "ipython",
    "version": 3
   },
   "file_extension": ".py",
   "mimetype": "text/x-python",
   "name": "python",
   "nbconvert_exporter": "python",
   "pygments_lexer": "ipython3",
   "version": "3.7.3"
  },
  "toc": {
   "base_numbering": 1,
   "nav_menu": {},
   "number_sections": true,
   "sideBar": true,
   "skip_h1_title": false,
   "title_cell": "Table of Contents",
   "title_sidebar": "Contents",
   "toc_cell": false,
   "toc_position": {},
   "toc_section_display": true,
   "toc_window_display": false
  }
 },
 "nbformat": 4,
 "nbformat_minor": 2
}
