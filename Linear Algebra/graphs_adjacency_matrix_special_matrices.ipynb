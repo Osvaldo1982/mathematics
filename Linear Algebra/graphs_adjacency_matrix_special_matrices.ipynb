{
 "cells": [
  {
   "cell_type": "markdown",
   "metadata": {},
   "source": [
    "# Introduction\n",
    "\n",
    "This notebook is about graphs, matrices and how they relate to each other.\n",
    "\n",
    "\n",
    "## References\n",
    "\n",
    "* https://networkx.github.io/documentation/stable/auto_examples/index.html\n",
    "* https://en.wikipedia.org/wiki/Adjacency_matrix#Adjacency_matrix_of_a_bipartite_graph\n",
    "* [Dmitry Zinoviev, Complex Network Analysis in Python: Recognize - Construct - Visualize - Analyze - Interpret](https://books.google.com.br/books/about/Complex_Network_Analysis_in_Python.html?id=JafgswEACAAJ&redir_esc=y)\n",
    "* https://scipy-lectures.org/intro/numpy/array_object.html"
   ]
  },
  {
   "cell_type": "code",
   "execution_count": 26,
   "metadata": {
    "ExecuteTime": {
     "end_time": "2020-04-21T15:47:14.395737Z",
     "start_time": "2020-04-21T15:47:13.891886Z"
    }
   },
   "outputs": [],
   "source": [
    "import numpy as np\n",
    "import pandas as pd\n",
    "import matplotlib.pyplot as plt\n",
    "import networkx as nx\n",
    "from itertools import chain # For flattening the list of edges"
   ]
  },
  {
   "cell_type": "markdown",
   "metadata": {},
   "source": [
    "# Defining Matrix and Arrays"
   ]
  },
  {
   "cell_type": "code",
   "execution_count": 29,
   "metadata": {
    "ExecuteTime": {
     "end_time": "2020-04-21T15:52:30.023941Z",
     "start_time": "2020-04-21T15:52:30.015945Z"
    },
    "colab": {
     "base_uri": "https://localhost:8080/",
     "height": 102
    },
    "colab_type": "code",
    "executionInfo": {
     "elapsed": 1342,
     "status": "ok",
     "timestamp": 1567973790560,
     "user": {
      "displayName": "Osvaldo Pereira",
      "photoUrl": "https://lh3.googleusercontent.com/a-/AAuE7mAnkb6EHQKZbtrluLoR9n9gLHCEzz9To0MH1UpwbA=s64",
      "userId": "08686613136230694087"
     },
     "user_tz": 180
    },
    "id": "yrlqfr3EHdQo",
    "outputId": "e19ea06a-964d-4edd-9998-930b27ee07a5"
   },
   "outputs": [
    {
     "data": {
      "text/plain": [
       "array([[0. , 1. , 0. , 0. , 0. ],\n",
       "       [0. , 0. , 1. , 0. , 0. ],\n",
       "       [0. , 0. , 0. , 1. , 0. ],\n",
       "       [0. , 0. , 0. , 0. , 1. ],\n",
       "       [0.1, 0. , 0. , 0. , 0. ]])"
      ]
     },
     "execution_count": 29,
     "metadata": {},
     "output_type": "execute_result"
    }
   ],
   "source": [
    "A = np.array([\n",
    "[0, 1, 0, 0, 0],\n",
    "[0, 0, 1, 0, 0],\n",
    "[0, 0, 0, 1, 0],\n",
    "[0, 0, 0, 0, 1],\n",
    "[.1, 0, 0, 0, 0]\n",
    "])\n",
    "\n",
    "A"
   ]
  },
  {
   "cell_type": "code",
   "execution_count": 14,
   "metadata": {
    "ExecuteTime": {
     "end_time": "2020-04-21T15:41:38.930278Z",
     "start_time": "2020-04-21T15:41:38.923277Z"
    },
    "colab": {
     "base_uri": "https://localhost:8080/",
     "height": 102
    },
    "colab_type": "code",
    "executionInfo": {
     "elapsed": 663,
     "status": "ok",
     "timestamp": 1567967155353,
     "user": {
      "displayName": "Osvaldo Pereira",
      "photoUrl": "https://lh3.googleusercontent.com/a-/AAuE7mAnkb6EHQKZbtrluLoR9n9gLHCEzz9To0MH1UpwbA=s64",
      "userId": "08686613136230694087"
     },
     "user_tz": 180
    },
    "id": "Vn3ynow4HpPx",
    "outputId": "8d0bb649-3f37-4f53-b728-aec8b6108726"
   },
   "outputs": [
    {
     "data": {
      "text/plain": [
       "matrix([[0. , 1. , 0. , 0. , 0. ],\n",
       "        [0. , 0. , 1. , 0. , 0. ],\n",
       "        [0. , 0. , 0. , 1. , 0. ],\n",
       "        [0. , 0. , 0. , 0. , 1. ],\n",
       "        [0.1, 0. , 0. , 0. , 0. ]])"
      ]
     },
     "execution_count": 14,
     "metadata": {},
     "output_type": "execute_result"
    }
   ],
   "source": [
    "A_mtx = np.matrix(A)\n",
    "\n",
    "A_mtx"
   ]
  },
  {
   "cell_type": "markdown",
   "metadata": {},
   "source": [
    "# Special Matrices\n",
    "\n",
    "## Reference\n",
    "\n",
    "* https://en.wikipedia.org/wiki/Laplacian_matrix\n",
    "* https://en.wikipedia.org/wiki/Adjacency_matrix\n",
    "* https://en.wikipedia.org/wiki/Degree_matrix\n",
    "* https://en.wikipedia.org/wiki/Incidence_matrix\n",
    "* https://en.wikipedia.org/wiki/Distance_matrix\n",
    "*\n",
    "\n",
    "## Circulant Matrix"
   ]
  },
  {
   "cell_type": "code",
   "execution_count": 32,
   "metadata": {
    "ExecuteTime": {
     "end_time": "2020-04-21T16:02:56.841597Z",
     "start_time": "2020-04-21T16:02:56.836642Z"
    },
    "colab": {
     "base_uri": "https://localhost:8080/",
     "height": 102
    },
    "colab_type": "code",
    "executionInfo": {
     "elapsed": 654,
     "status": "ok",
     "timestamp": 1567970050782,
     "user": {
      "displayName": "Osvaldo Pereira",
      "photoUrl": "https://lh3.googleusercontent.com/a-/AAuE7mAnkb6EHQKZbtrluLoR9n9gLHCEzz9To0MH1UpwbA=s64",
      "userId": "08686613136230694087"
     },
     "user_tz": 180
    },
    "id": "r9Xlw-wyS_vY",
    "outputId": "93fdcdf0-4c54-4df3-87f5-78e0c548b799"
   },
   "outputs": [
    {
     "name": "stdout",
     "output_type": "stream",
     "text": [
      "[[ 0  1  2  3  4]\n",
      " [ 5  6  7  8  9]\n",
      " [10 11 12 13 14]\n",
      " [15 16 17 18 19]\n",
      " [20 21 22 23 24]]\n"
     ]
    }
   ],
   "source": [
    "a = np.arange(25).reshape((5, 5))\n",
    "\n",
    "print(a)"
   ]
  },
  {
   "cell_type": "markdown",
   "metadata": {},
   "source": [
    "## Null Matrix"
   ]
  },
  {
   "cell_type": "code",
   "execution_count": 18,
   "metadata": {
    "ExecuteTime": {
     "end_time": "2020-04-21T15:42:02.943427Z",
     "start_time": "2020-04-21T15:42:02.937431Z"
    },
    "colab": {
     "base_uri": "https://localhost:8080/",
     "height": 102
    },
    "colab_type": "code",
    "executionInfo": {
     "elapsed": 679,
     "status": "ok",
     "timestamp": 1567969960766,
     "user": {
      "displayName": "Osvaldo Pereira",
      "photoUrl": "https://lh3.googleusercontent.com/a-/AAuE7mAnkb6EHQKZbtrluLoR9n9gLHCEzz9To0MH1UpwbA=s64",
      "userId": "08686613136230694087"
     },
     "user_tz": 180
    },
    "id": "noaDZlgySYBX",
    "outputId": "3cd4afa7-5453-4aac-d0e9-c17cc6cdcb45"
   },
   "outputs": [
    {
     "name": "stdout",
     "output_type": "stream",
     "text": [
      "[[0 0 0 0 0 0 0 0]\n",
      " [0 0 0 0 0 0 0 0]\n",
      " [0 0 0 0 0 0 0 0]\n",
      " [0 0 0 0 0 0 0 0]\n",
      " [0 0 0 0 0 0 0 0]]\n"
     ]
    }
   ],
   "source": [
    "# Creates a list containing 5 lists, each of 8 items, all set to 0\n",
    "w, h = 8, 5;\n",
    "Matrix = np.array([[0 for x in range(w)] for y in range(h)] )\n",
    "print(Matrix)"
   ]
  },
  {
   "cell_type": "markdown",
   "metadata": {},
   "source": [
    "# Graphs\n",
    "\n",
    "## References\n",
    "\n",
    "* https://en.wikipedia.org/wiki/Graph_(discrete_mathematics)#Undirected_graph\n",
    "* https://en.wikipedia.org/wiki/Directed_graph\n",
    "* https://networkx.github.io/documentation/stable/tutorial.html\n",
    "* https://networkx.github.io/documentation/stable/auto_examples/index.html\n",
    "* https://stackoverflow.com/questions/35986219/convert-bipartite-graph-to-adjacency-matrix-python"
   ]
  },
  {
   "cell_type": "markdown",
   "metadata": {},
   "source": [
    "## Defining graphs"
   ]
  },
  {
   "cell_type": "code",
   "execution_count": 30,
   "metadata": {
    "ExecuteTime": {
     "end_time": "2020-04-21T15:52:49.628723Z",
     "start_time": "2020-04-21T15:52:49.621763Z"
    },
    "colab": {
     "base_uri": "https://localhost:8080/",
     "height": 34
    },
    "colab_type": "code",
    "executionInfo": {
     "elapsed": 1303,
     "status": "ok",
     "timestamp": 1567967357601,
     "user": {
      "displayName": "Osvaldo Pereira",
      "photoUrl": "https://lh3.googleusercontent.com/a-/AAuE7mAnkb6EHQKZbtrluLoR9n9gLHCEzz9To0MH1UpwbA=s64",
      "userId": "08686613136230694087"
     },
     "user_tz": 180
    },
    "id": "HTe250ssHpV7",
    "outputId": "6bd2094a-27e2-4171-fe59-44dbfbeffb15"
   },
   "outputs": [
    {
     "name": "stdout",
     "output_type": "stream",
     "text": [
      "[(0, 1, {}), (1, 2, {}), (2, 3, {}), (3, 4, {}), (4, 0, {})]\n"
     ]
    }
   ],
   "source": [
    "G = nx.DiGraph()\n",
    "edges = chain.from_iterable([(i, j)\n",
    "\n",
    "for j, column in enumerate(row)\n",
    "if A[i][j]] for i, row in enumerate(A))\n",
    "G.add_edges_from(edges)\n",
    "print(G.edges(data=True))"
   ]
  },
  {
   "cell_type": "markdown",
   "metadata": {},
   "source": [
    "## Defining graphs with weights"
   ]
  },
  {
   "cell_type": "code",
   "execution_count": 16,
   "metadata": {
    "ExecuteTime": {
     "end_time": "2020-04-21T15:41:57.187560Z",
     "start_time": "2020-04-21T15:41:57.178567Z"
    },
    "colab": {
     "base_uri": "https://localhost:8080/",
     "height": 34
    },
    "colab_type": "code",
    "executionInfo": {
     "elapsed": 650,
     "status": "ok",
     "timestamp": 1567967406245,
     "user": {
      "displayName": "Osvaldo Pereira",
      "photoUrl": "https://lh3.googleusercontent.com/a-/AAuE7mAnkb6EHQKZbtrluLoR9n9gLHCEzz9To0MH1UpwbA=s64",
      "userId": "08686613136230694087"
     },
     "user_tz": 180
    },
    "id": "-njUroBpH_BF",
    "outputId": "ad10462c-0867-4ceb-9541-58899536b637"
   },
   "outputs": [
    {
     "name": "stdout",
     "output_type": "stream",
     "text": [
      "[(0, 1, {'weight': 1.0}), (1, 2, {'weight': 1.0}), (2, 3, {'weight': 1.0}), (3, 4, {'weight': 1.0}), (4, 0, {'weight': 0.1})]\n"
     ]
    }
   ],
   "source": [
    "G = nx.DiGraph()\n",
    "edges = chain.from_iterable([(i, j, {\"weight\": A[i][j]})\n",
    "for j, column in enumerate(row)\n",
    "if A[i][j]] for i, row in enumerate(A))\n",
    "G.add_edges_from(edges)\n",
    "print(G.edges(data=True))"
   ]
  },
  {
   "cell_type": "markdown",
   "metadata": {
    "ExecuteTime": {
     "end_time": "2020-04-21T16:03:40.122126Z",
     "start_time": "2020-04-21T16:03:40.118123Z"
    },
    "colab": {},
    "colab_type": "code",
    "id": "VbyozpRBUKWH"
   },
   "source": [
    "## Defining matrix from edges"
   ]
  },
  {
   "cell_type": "code",
   "execution_count": 41,
   "metadata": {
    "ExecuteTime": {
     "end_time": "2020-04-21T16:58:59.408140Z",
     "start_time": "2020-04-21T16:58:59.398140Z"
    },
    "colab": {},
    "colab_type": "code",
    "id": "HS8DWbcGUNcH"
   },
   "outputs": [
    {
     "name": "stdout",
     "output_type": "stream",
     "text": [
      "0 1\n",
      "0 3\n",
      "0 4\n",
      "1 0\n",
      "1 2\n",
      "1 3\n",
      "1 4\n",
      "2 1\n",
      "2 3\n",
      "3 0\n",
      "3 1\n",
      "3 2\n",
      "3 4\n",
      "4 0\n",
      "4 1\n",
      "4 3\n"
     ]
    }
   ],
   "source": [
    "n=5\n",
    "edge_u = [0, 0, 0, 1, 1, 1, 1, 2, 2, 3, 3, 3, 3, 4, 4, 4]\n",
    "edge_v = [1, 3, 4, 0, 2, 3, 4, 1, 3, 0, 1, 2, 4, 0, 1, 3]\n",
    "\n",
    "A = [[0 for i in range(n)] for k in range(n)]\n",
    "\n",
    "for i in range(len(edge_u)):\n",
    "    u = edge_u[i]\n",
    "    v = edge_v[i]\n",
    "    A[u][v] = 1\n",
    "    print(u,v)"
   ]
  },
  {
   "cell_type": "code",
   "execution_count": 42,
   "metadata": {
    "ExecuteTime": {
     "end_time": "2020-04-21T16:59:05.363594Z",
     "start_time": "2020-04-21T16:59:05.358559Z"
    }
   },
   "outputs": [
    {
     "data": {
      "text/plain": [
       "[[0, 1, 0, 1, 1],\n",
       " [1, 0, 1, 1, 1],\n",
       " [0, 1, 0, 1, 0],\n",
       " [1, 1, 1, 0, 1],\n",
       " [1, 1, 0, 1, 0]]"
      ]
     },
     "execution_count": 42,
     "metadata": {},
     "output_type": "execute_result"
    }
   ],
   "source": [
    "A"
   ]
  },
  {
   "cell_type": "code",
   "execution_count": 24,
   "metadata": {
    "ExecuteTime": {
     "end_time": "2020-04-21T15:42:17.749643Z",
     "start_time": "2020-04-21T15:42:17.739647Z"
    },
    "colab": {
     "base_uri": "https://localhost:8080/",
     "height": 102
    },
    "colab_type": "code",
    "executionInfo": {
     "elapsed": 664,
     "status": "ok",
     "timestamp": 1567973621794,
     "user": {
      "displayName": "Osvaldo Pereira",
      "photoUrl": "https://lh3.googleusercontent.com/a-/AAuE7mAnkb6EHQKZbtrluLoR9n9gLHCEzz9To0MH1UpwbA=s64",
      "userId": "08686613136230694087"
     },
     "user_tz": 180
    },
    "id": "mPo0RFHGf7Ga",
    "outputId": "d375ef07-8d07-40b7-cc77-da7cb25c6ab8"
   },
   "outputs": [
    {
     "name": "stdout",
     "output_type": "stream",
     "text": [
      "0 1 0 1 1 \n",
      "1 0 1 1 1 \n",
      "0 1 0 1 0 \n",
      "1 1 1 0 1 \n",
      "1 1 0 1 0 \n"
     ]
    }
   ],
   "source": [
    "for i in range(5):\n",
    "        for k in range(5):\n",
    "            print(A[i][k],\"\",end=\"\")\n",
    "        print('')"
   ]
  },
  {
   "cell_type": "code",
   "execution_count": 25,
   "metadata": {
    "ExecuteTime": {
     "end_time": "2020-04-21T15:42:20.313717Z",
     "start_time": "2020-04-21T15:42:20.309722Z"
    },
    "colab": {},
    "colab_type": "code",
    "id": "8p_egEIrhKgh"
   },
   "outputs": [],
   "source": [
    "a = ['p1','p2','p3','p4','p5','p6']\n",
    "b = ['c1','c2','c3']"
   ]
  },
  {
   "cell_type": "markdown",
   "metadata": {},
   "source": [
    "## Drawing graphs and grids"
   ]
  },
  {
   "cell_type": "code",
   "execution_count": 60,
   "metadata": {
    "ExecuteTime": {
     "end_time": "2020-04-21T17:25:52.223911Z",
     "start_time": "2020-04-21T17:25:52.096041Z"
    }
   },
   "outputs": [
    {
     "name": "stdout",
     "output_type": "stream",
     "text": [
      "(0, 0) (1, 0) (0, 1)\n",
      "(0, 1) (1, 1) (0, 2)\n",
      "(0, 2) (1, 2) (0, 3)\n",
      "(0, 3) (1, 3) (0, 4)\n",
      "(0, 4) (1, 4)\n",
      "(1, 0) (2, 0) (1, 1)\n",
      "(1, 1) (2, 1) (1, 2)\n",
      "(1, 2) (2, 2) (1, 3)\n",
      "(1, 3) (2, 3) (1, 4)\n",
      "(1, 4) (2, 4)\n",
      "(2, 0) (3, 0) (2, 1)\n",
      "(2, 1) (3, 1) (2, 2)\n",
      "(2, 2) (3, 2) (2, 3)\n",
      "(2, 3) (3, 3) (2, 4)\n",
      "(2, 4) (3, 4)\n",
      "(3, 0) (4, 0) (3, 1)\n",
      "(3, 1) (4, 1) (3, 2)\n",
      "(3, 2) (4, 2) (3, 3)\n",
      "(3, 3) (4, 3) (3, 4)\n",
      "(3, 4) (4, 4)\n",
      "(4, 0) (4, 1)\n",
      "(4, 1) (4, 2)\n",
      "(4, 2) (4, 3)\n",
      "(4, 3) (4, 4)\n",
      "(4, 4)\n"
     ]
    },
    {
     "data": {
      "image/png": "[encoded data removed]",
      "text/plain": [
       "<Figure size 432x288 with 1 Axes>"
      ]
     },
     "metadata": {},
     "output_type": "display_data"
    }
   ],
   "source": [
    "G = nx.grid_2d_graph(5, 5)  # 5x5 grid\n",
    "\n",
    "# write edgelist to grid.edgelist\n",
    "nx.write_edgelist(G, path=\"grid.edgelist\", delimiter=\":\")\n",
    "\n",
    "# read edgelist from grid.edgelist\n",
    "H = nx.read_edgelist(path=\"grid.edgelist\", delimiter=\":\")\n",
    "\n",
    "# print the adjacency list\n",
    "for line in nx.generate_adjlist(G):\n",
    "    print(line)\n",
    "\n",
    "nx.draw(H)\n",
    "\n",
    "plt.show()"
   ]
  },
  {
   "cell_type": "code",
   "execution_count": 28,
   "metadata": {
    "ExecuteTime": {
     "end_time": "2020-04-21T15:48:18.602708Z",
     "start_time": "2020-04-21T15:48:18.162190Z"
    }
   },
   "outputs": [
    {
     "data": {
      "image/png": "[encoded data removed]",
      "text/plain": [
       "<Figure size 432x288 with 4 Axes>"
      ]
     },
     "metadata": {},
     "output_type": "display_data"
    }
   ],
   "source": [
    "G = nx.grid_2d_graph(4, 4)  # 4x4 grid\n",
    "\n",
    "pos = nx.spring_layout(G, iterations=100)\n",
    "\n",
    "plt.subplot(221)\n",
    "nx.draw(G, pos, font_size=8)\n",
    "\n",
    "plt.subplot(222)\n",
    "nx.draw(G, pos, node_color='k', node_size=0, with_labels=False)\n",
    "\n",
    "plt.subplot(223)\n",
    "nx.draw(G, pos, node_color='g', node_size=250, with_labels=False, width=6)\n",
    "\n",
    "plt.subplot(224)\n",
    "H = G.to_directed()\n",
    "nx.draw(H, pos, node_color='b', node_size=20, with_labels=False)\n",
    "\n",
    "plt.show()"
   ]
  },
  {
   "cell_type": "markdown",
   "metadata": {},
   "source": [
    "# Example using networkx: bipartite graph to adjacency matrix\n",
    "\n",
    "## References\n",
    "\n",
    "* https://en.wikipedia.org/wiki/Adjacency_matrix#Adjacency_matrix_of_a_bipartite_graph\n",
    "* https://networkx.github.io/documentation/stable/auto_examples/index.html"
   ]
  },
  {
   "cell_type": "markdown",
   "metadata": {},
   "source": [
    "## Bipartite graph"
   ]
  },
  {
   "cell_type": "code",
   "execution_count": null,
   "metadata": {},
   "outputs": [],
   "source": []
  },
  {
   "cell_type": "code",
   "execution_count": 3,
   "metadata": {
    "ExecuteTime": {
     "end_time": "2020-04-21T15:38:06.442338Z",
     "start_time": "2020-04-21T15:38:05.545057Z"
    },
    "colab": {},
    "colab_type": "code",
    "id": "ldulYXdLhKq3"
   },
   "outputs": [],
   "source": [
    "from operator import itemgetter\n",
    "import networkx as nx\n",
    "from networkx.algorithms.bipartite import biadjacency_matrix\n",
    "\n",
    "def to_adjacency_matrix(data):\n",
    "    g = nx.DiGraph()\n",
    "    g.add_edges_from(data)\n",
    "    partition_1 = set(map(itemgetter(0), data))\n",
    "    return biadjacency_matrix(g, partition_1).toarray()"
   ]
  },
  {
   "cell_type": "code",
   "execution_count": 12,
   "metadata": {
    "ExecuteTime": {
     "end_time": "2020-04-21T15:40:45.289053Z",
     "start_time": "2020-04-21T15:40:45.283056Z"
    }
   },
   "outputs": [
    {
     "data": {
      "text/plain": [
       "[('a', 'developer'),\n",
       " ('b', 'tester'),\n",
       " ('b', 'developer'),\n",
       " ('c', 'developer'),\n",
       " ('c', 'architect')]"
      ]
     },
     "execution_count": 12,
     "metadata": {},
     "output_type": "execute_result"
    }
   ],
   "source": [
    "data = [('a', 'developer'),\n",
    "         ('b', 'tester'),\n",
    "        ('b', 'developer'),\n",
    "         ('c','developer'),\n",
    "         ('c', 'architect')]\n",
    "\n",
    "data"
   ]
  },
  {
   "cell_type": "code",
   "execution_count": 13,
   "metadata": {
    "ExecuteTime": {
     "end_time": "2020-04-21T15:40:48.878631Z",
     "start_time": "2020-04-21T15:40:48.871677Z"
    }
   },
   "outputs": [
    {
     "data": {
      "text/plain": [
       "array([[0, 1, 0],\n",
       "       [1, 1, 0],\n",
       "       [0, 1, 1]], dtype=int32)"
      ]
     },
     "execution_count": 13,
     "metadata": {},
     "output_type": "execute_result"
    }
   ],
   "source": [
    "to_adjacency_matrix(data)"
   ]
  },
  {
   "cell_type": "code",
   "execution_count": null,
   "metadata": {},
   "outputs": [],
   "source": []
  }
 ],
 "metadata": {
  "colab": {
   "collapsed_sections": [],
   "name": "Copy of Adjacency Matrix, the NumPy Way.ipynb",
   "provenance": [
    {
     "file_id": "1AiHAsKzX5wrXpSLBsdHPfXxDfoJRjgIY",
     "timestamp": 1567990916991
    }
   ],
   "version": "0.3.2"
  },
  "hide_input": false,
  "kernelspec": {
   "display_name": "Python 3",
   "language": "python",
   "name": "python3"
  },
  "language_info": {
   "codemirror_mode": {
    "name": "ipython",
    "version": 3
   },
   "file_extension": ".py",
   "mimetype": "text/x-python",
   "name": "python",
   "nbconvert_exporter": "python",
   "pygments_lexer": "ipython3",
   "version": "3.7.3"
  },
  "latex_envs": {
   "LaTeX_envs_menu_present": true,
   "autoclose": false,
   "autocomplete": true,
   "bibliofile": "biblio.bib",
   "cite_by": "apalike",
   "current_citInitial": 1,
   "eqLabelWithNumbers": true,
   "eqNumInitial": 1,
   "hotkeys": {
    "equation": "Ctrl-E",
    "itemize": "Ctrl-I"
   },
   "labels_anchors": false,
   "latex_user_defs": false,
   "report_style_numbering": false,
   "user_envs_cfg": false
  },
  "toc": {
   "base_numbering": 1,
   "nav_menu": {},
   "number_sections": true,
   "sideBar": true,
   "skip_h1_title": false,
   "title_cell": "Table of Contents",
   "title_sidebar": "Contents",
   "toc_cell": false,
   "toc_position": {},
   "toc_section_display": true,
   "toc_window_display": false
  }
 },
 "nbformat": 4,
 "nbformat_minor": 1
}
