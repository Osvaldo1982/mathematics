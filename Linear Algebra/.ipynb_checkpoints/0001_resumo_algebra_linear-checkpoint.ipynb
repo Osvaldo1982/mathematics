{
 "cells": [
  {
   "cell_type": "markdown",
   "metadata": {},
   "source": [
    "# Introdução básica de álgebra linear\n",
    "\n",
    "**Tópicos**\n",
    "* Noções de vetores\n",
    "* Noção de matrizes.\n",
    "* Espaços vetoriais.\n",
    "* Transformações lineares.\n",
    "* \n",
    "\n",
    "\n",
    "**Referências Bibliográficas**\n",
    "* Anton, H. e Rorres, C. Álgebra Linear com Aplicações. Bookman, 8ª Edição, 2001;\n",
    "* Boldrini, J. L., Costa, S. I. R., Figueiredo, V. L. e Wetzler, H. G. Álgebra Linear. Editora Harbra, 3ª Edição, 1986;\n",
    "* Callioli, C. A., Domingues, H. H. e Costa, R. F. Álgebra Linear e Aplicações. Atual Editora, 6ª Edição, 1990;\n",
    "* Franco, N. B. Cálculo Numérico. Pearson Education, 1ª edição, 2007;\n",
    "* Ruggiero, M. A. G. e Lopes, V. L. da R. Cálculo Numérico - Aspectos Teóricos e Computacionais. Makron Books, 2ª Edição, 1996;\n",
    "* Strang, G. Introduction to Linear Algebra. Wellesley-Cambridge Press. Third Edition, 2003;\n",
    "* Strang, G. Linear Algebra and Its Applications. Thomson, Fourth Edition, 2006;\n",
    "* Pulino, P. Álgebra Linear e Suas Aplicações: Notas de Aula. 2012. Disponível em: http://www.ime.unicamp.br/~pulino/ALESA/Texto/;\n",
    "* Watkins, D. S. Fundamentals of Matrix Computations. John Wiley & Sons, Third Edition, 2002.\n",
    "\n",
    "**Recursos Online**\n",
    "* [Machine Learning with Python Cookbook by Chris Albon (Chapter 1. Vectors, Matrices, and Arrays.)](https://www.oreilly.com/library/view/machine-learning-with/9781491989371/ch01.html)\n",
    "* [Linear Algebra with SciPy.](https://www.math.ubc.ca/~pwalls/math-python/linear-algebra/linear-algebra-scipy/)\n",
    "* [Scipy Lecture Notes.](https://scipy-lectures.org/index.html)\n",
    "* [1.3.1. The NumPy array object.](https://scipy-lectures.org/intro/numpy/array_object.html#numpy-arrays)\n",
    "* [3.2. Sympy : Symbolic Mathematics in Python.](https://scipy-lectures.org/packages/sympy.html#matrices)\n",
    "* [MPR213 Lecture notes - Algebra demos.](https://github.com/mpr213/lecture-notes/blob/master/Extra_01_Algebra_Demo.ipynb)\n",
    "* [Profa Marcia Ruggiero - Álgebra Linear e Aplicações.](https://www.ime.unicamp.br/~marcia/AlgebraLinear/)\n",
    "* [Math - Linear Algebra hands on](https://github.com/ageron/handson-ml/blob/master/math_linear_algebra.ipynb)"
   ]
  },
  {
   "cell_type": "code",
   "execution_count": 50,
   "metadata": {
    "ExecuteTime": {
     "end_time": "2020-03-28T22:31:49.261377Z",
     "start_time": "2020-03-28T22:31:49.256384Z"
    }
   },
   "outputs": [],
   "source": [
    "import numpy as np\n",
    "import scipy as sp\n",
    "import pandas as pd\n",
    "import numpy.linalg as la\n",
    "import matplotlib.pyplot as plt\n",
    "from mpl_toolkits.mplot3d import Axes3D\n",
    "import os\n",
    "import math "
   ]
  },
  {
   "cell_type": "markdown",
   "metadata": {},
   "source": [
    "# Noções de vetores\n",
    "\n",
    "Nesta seção apresentamos uma rápida revisão sobre vetores e como trabalhar com eles em Python. Para definir vetores utilizamos a função array do numpy. Abaixo um exemplo."
   ]
  },
  {
   "cell_type": "code",
   "execution_count": 54,
   "metadata": {
    "ExecuteTime": {
     "end_time": "2020-03-19T23:57:44.744116Z",
     "start_time": "2020-03-19T23:57:44.731314Z"
    }
   },
   "outputs": [
    {
     "data": {
      "text/plain": [
       "array([ 2, -1,  5])"
      ]
     },
     "execution_count": 54,
     "metadata": {},
     "output_type": "execute_result"
    }
   ],
   "source": [
    "v1 = np.array([1, 2, 3])\n",
    "v2 = np.array([1, -3, 2])\n",
    "\n",
    "# Definindo o vetor v3 como a soma dos vetores v1 e v2.\n",
    "v3 = v1 + v2\n",
    "\n",
    "v3"
   ]
  },
  {
   "cell_type": "markdown",
   "metadata": {},
   "source": [
    "## Multiplicação das coordenadas\n",
    "\n",
    "A linguagem python tem a propriedade de realizar a seguinte operação entre os vetores $v_1 = (a_1,a_2,a_3)$ e $v_2 = (b_1,b_2,b_3)$ \n",
    "\n",
    "\n",
    "\\begin{equation}\n",
    "\\nonumber v_1 * v_2 = (a_1 b_1, a_2 b_2, a_3 b_3)\n",
    "\\end{equation}\n",
    "\n",
    "Abaixo um exemplo deste tipo de operação."
   ]
  },
  {
   "cell_type": "code",
   "execution_count": 57,
   "metadata": {
    "ExecuteTime": {
     "end_time": "2020-03-20T00:26:58.950490Z",
     "start_time": "2020-03-20T00:26:58.938462Z"
    }
   },
   "outputs": [
    {
     "data": {
      "text/plain": [
       "array([ 0, -4, -4])"
      ]
     },
     "execution_count": 57,
     "metadata": {},
     "output_type": "execute_result"
    }
   ],
   "source": [
    "v1 = np.array([1, 2, 4])\n",
    "v2 = np.array([0,-2,-1])\n",
    "\n",
    "v1 * v2"
   ]
  },
  {
   "cell_type": "markdown",
   "metadata": {},
   "source": [
    "## Divisão das coordenadas\n",
    "\n",
    "Da mesma forma que o Python realiza multiplicação de coordenadas, também pode realizar a divisão de suas coordenadas. Seja dois vetores $v_1 = (a_1,a_2,a_3)$ e $v_2 = (b_1,b_2,b_3)$ a divisão entre suas coordenadas é dada por\n",
    "\n",
    "\\begin{equation}\n",
    "\\nonumber v_1 / v_2 = (a_1 / b_1, a_2 / b_2, a_3 / b_3)\n",
    "\\end{equation}\n",
    "\n",
    "Abaixo um exemplo deste tipo de operação."
   ]
  },
  {
   "cell_type": "code",
   "execution_count": 58,
   "metadata": {
    "ExecuteTime": {
     "end_time": "2020-03-20T00:29:40.634968Z",
     "start_time": "2020-03-20T00:29:40.621980Z"
    }
   },
   "outputs": [
    {
     "data": {
      "text/plain": [
       "array([ 3., -3., -8.])"
      ]
     },
     "execution_count": 58,
     "metadata": {},
     "output_type": "execute_result"
    }
   ],
   "source": [
    "v1 = np.array([9, 21, 16])\n",
    "v2 = np.array([3,-7,-2])\n",
    "\n",
    "v1 / v2"
   ]
  },
  {
   "cell_type": "markdown",
   "metadata": {},
   "source": [
    "## Produto escalar\n",
    "\n",
    "Dado dois vetores $v_1 = (a_1,a_2,a_3)$ e $v_2 = (b_1,b_2,b_3)$ o produto escalar entre estes dois vetores é dado por\n",
    "\n",
    "\\begin{equation}\n",
    "\\nonumber v_1 \\cdot v_2 = a_1b_1 + a_2 b_2 + a_3 b_3\n",
    "\\end{equation}\n",
    "\n",
    "Abaixo um exemplo de produto escalar entre vetores."
   ]
  },
  {
   "cell_type": "code",
   "execution_count": 56,
   "metadata": {
    "ExecuteTime": {
     "end_time": "2020-03-20T00:08:49.164356Z",
     "start_time": "2020-03-20T00:08:49.156619Z"
    }
   },
   "outputs": [
    {
     "data": {
      "text/plain": [
       "-8"
      ]
     },
     "execution_count": 56,
     "metadata": {},
     "output_type": "execute_result"
    }
   ],
   "source": [
    "v1 = np.array([1, 2, 4])\n",
    "v2 = np.array([0,-2,-1])\n",
    "\n",
    "np.dot(v1, v2)"
   ]
  },
  {
   "cell_type": "markdown",
   "metadata": {},
   "source": [
    "## Produto vetorial"
   ]
  },
  {
   "cell_type": "code",
   "execution_count": 6,
   "metadata": {
    "ExecuteTime": {
     "end_time": "2020-03-04T11:41:02.467423Z",
     "start_time": "2020-03-04T11:41:02.459018Z"
    }
   },
   "outputs": [
    {
     "name": "stdout",
     "output_type": "stream",
     "text": [
      "The cross product of [2 4 6] and [1 1 1] is [-2  4 -2].\n"
     ]
    }
   ],
   "source": [
    "vector1 = np.array([2, 4, 6])\n",
    "vector2 = np.array([1, 1, 1])\n",
    "print(msg.format('cross', vector1, vector2, np.cross(vector1, vector2)))"
   ]
  },
  {
   "cell_type": "markdown",
   "metadata": {},
   "source": [
    "# Plots de vetores e pontos"
   ]
  },
  {
   "cell_type": "markdown",
   "metadata": {},
   "source": [
    "## Plotando pontos no plano cartesiano"
   ]
  },
  {
   "cell_type": "code",
   "execution_count": 9,
   "metadata": {
    "ExecuteTime": {
     "end_time": "2020-03-28T21:15:36.123000Z",
     "start_time": "2020-03-28T21:15:36.003492Z"
    },
    "scrolled": true
   },
   "outputs": [
    {
     "data": {
      "image/png": "[encoded data removed]",
      "text/plain": [
       "<Figure size 432x288 with 1 Axes>"
      ]
     },
     "metadata": {
      "needs_background": "light"
     },
     "output_type": "display_data"
    }
   ],
   "source": [
    "u = np.array([1, 2])\n",
    "v = np.array([3, 6])\n",
    "\n",
    "x, y = zip(u, v)\n",
    "plt.scatter(x, y, color=[\"red\",\"blue\"])\n",
    "plt.axis([0, 10, 0, 10])\n",
    "plt.grid()\n",
    "plt.show()"
   ]
  },
  {
   "cell_type": "markdown",
   "metadata": {},
   "source": [
    "## Plotando vetores no plano cartesiano\n",
    "\n",
    "Vamos criar uma função que plota vetores no plano cartesiano"
   ]
  },
  {
   "cell_type": "code",
   "execution_count": 11,
   "metadata": {
    "ExecuteTime": {
     "end_time": "2020-03-28T21:18:48.252481Z",
     "start_time": "2020-03-28T21:18:48.248498Z"
    }
   },
   "outputs": [],
   "source": [
    "def plot_vetor_2d(vector2d, origin=[0, 0], **options):\n",
    "    return plt.arrow(origin[0], origin[1], vector2d[0], vector2d[1],\n",
    "              head_width=0.2, head_length=0.3, length_includes_head=True,\n",
    "              **options)"
   ]
  },
  {
   "cell_type": "code",
   "execution_count": 15,
   "metadata": {
    "ExecuteTime": {
     "end_time": "2020-03-28T21:20:07.126826Z",
     "start_time": "2020-03-28T21:20:06.994681Z"
    }
   },
   "outputs": [
    {
     "data": {
      "image/png": "[encoded data removed]",
      "text/plain": [
       "<Figure size 432x288 with 1 Axes>"
      ]
     },
     "metadata": {
      "needs_background": "light"
     },
     "output_type": "display_data"
    }
   ],
   "source": [
    "w = np.array([2, 5])\n",
    "q = np.array([3, 1])\n",
    "\n",
    "plot_vetor_2d(w, color=\"r\")\n",
    "plot_vetor_2d(q, color=\"b\")\n",
    "plt.axis([0, 6, 0, 6])\n",
    "plt.grid()\n",
    "plt.show()"
   ]
  },
  {
   "cell_type": "markdown",
   "metadata": {},
   "source": [
    "## Plot 2D usando quiver()\n",
    "\n",
    "* [matplotlib quiver](https://matplotlib.org/api/pyplot_api.html#matplotlib.pyplot.quiver)\n",
    "* [stackoverflow - quiver example](https://stackoverflow.com/questions/34375345/how-does-pythons-matplotlib-pyplot-quiver-exactly-work)"
   ]
  },
  {
   "cell_type": "code",
   "execution_count": 42,
   "metadata": {
    "ExecuteTime": {
     "end_time": "2020-03-28T22:20:06.391835Z",
     "start_time": "2020-03-28T22:20:06.242861Z"
    }
   },
   "outputs": [
    {
     "data": {
      "text/plain": [
       "<matplotlib.quiver.Quiver at 0x1edba7cd1d0>"
      ]
     },
     "execution_count": 42,
     "metadata": {},
     "output_type": "execute_result"
    },
    {
     "data": {
      "image/png": "[encoded data removed]",
      "text/plain": [
       "<Figure size 432x288 with 1 Axes>"
      ]
     },
     "metadata": {
      "needs_background": "light"
     },
     "output_type": "display_data"
    }
   ],
   "source": [
    "x = np.linspace(0,1,11)\n",
    "y = np.linspace(1,0,11)\n",
    "u = np.zeros((11, 11))\n",
    "v = np.zeros((11, 11))\n",
    "u[7,7] = 0.2\n",
    "v[7,3] = 0.2\n",
    "\n",
    "plt.quiver(x, y, u, v, scale=1, units='xy')"
   ]
  },
  {
   "cell_type": "code",
   "execution_count": 33,
   "metadata": {
    "ExecuteTime": {
     "end_time": "2020-03-28T22:10:35.174495Z",
     "start_time": "2020-03-28T22:10:35.064504Z"
    }
   },
   "outputs": [
    {
     "data": {
      "image/png": "[encoded data removed]",
      "text/plain": [
       "<Figure size 432x288 with 1 Axes>"
      ]
     },
     "metadata": {
      "needs_background": "light"
     },
     "output_type": "display_data"
    }
   ],
   "source": [
    "fig = plt.figure()\n",
    "ax = fig.add_subplot(111)\n",
    "ax.quiver((0,0), (0,0), (1,0), (1,3), units = 'xy', scale = 1)\n",
    "plt.axis('equal')\n",
    "plt.xticks(range(-5,6))\n",
    "plt.yticks(range(-5,6))\n",
    "plt.grid()\n",
    "plt.show()"
   ]
  },
  {
   "cell_type": "markdown",
   "metadata": {},
   "source": [
    "## Examples of plots using matplotlib \n",
    "\n",
    "* [MIT - Matplotlib examples](https://www.science-emergence.com/Articles/How-to-plot-a-simple-vector-with-matplotlib-/)"
   ]
  },
  {
   "cell_type": "code",
   "execution_count": 69,
   "metadata": {
    "ExecuteTime": {
     "end_time": "2020-03-28T22:47:56.138429Z",
     "start_time": "2020-03-28T22:47:56.131430Z"
    }
   },
   "outputs": [],
   "source": [
    "def plot_vetor_func2(a,b,c,d,x_grid,y_grid):\n",
    "    ax = plt.axes()\n",
    "    ax.arrow(a,b,c,d, head_width=0.25, head_length=0.5, fc='lightblue', ec='black')\n",
    "    plt.grid()\n",
    "    plt.xlim(0,x_grid)\n",
    "    plt.ylim(0,y_grid)\n",
    "    plt.title('How to plot a vector in matplotlib ?',fontsize=10)\n",
    "    # plt.savefig('how_to_plot_a_vector_in_matplotlib_fig1.png', bbox_inches='tight')\n",
    "    plt.show()\n",
    "    plt.close()"
   ]
  },
  {
   "cell_type": "code",
   "execution_count": 70,
   "metadata": {
    "ExecuteTime": {
     "end_time": "2020-03-28T22:49:27.448557Z",
     "start_time": "2020-03-28T22:49:27.320822Z"
    }
   },
   "outputs": [
    {
     "data": {
      "image/png": "[encoded data removed]",
      "text/plain": [
       "<Figure size 432x288 with 1 Axes>"
      ]
     },
     "metadata": {
      "needs_background": "light"
     },
     "output_type": "display_data"
    }
   ],
   "source": [
    "#plot_vetor_func2(a,b,c,d,x_grid,y_grid)\n",
    "# (a,b) = origem do vetor\n",
    "# (c,d) = final do vetor\n",
    "# x_grid = tamanho do grid no eixo x\n",
    "# y_grid = tamanho do grid no eixo y\n",
    "\n",
    "plot_vetor_func2(0,0,3,4,10,10)"
   ]
  },
  {
   "cell_type": "code",
   "execution_count": 51,
   "metadata": {
    "ExecuteTime": {
     "end_time": "2020-03-28T22:31:58.761533Z",
     "start_time": "2020-03-28T22:31:58.619516Z"
    }
   },
   "outputs": [
    {
     "data": {
      "image/png": "[encoded data removed]",
      "text/plain": [
       "<Figure size 432x288 with 1 Axes>"
      ]
     },
     "metadata": {
      "needs_background": "light"
     },
     "output_type": "display_data"
    }
   ],
   "source": [
    "a = [2.0,4.0]\n",
    "b = [8.0,8.0]\n",
    "\n",
    "head_length = 0.7\n",
    "\n",
    "dx = b[0] - a[0]\n",
    "dy = b[1] - a[1]\n",
    "\n",
    "vec_ab = [dx,dy]\n",
    "\n",
    "vec_ab_magnitude = math.sqrt(dx**2+dy**2)\n",
    "\n",
    "dx = dx / vec_ab_magnitude\n",
    "dy = dy / vec_ab_magnitude\n",
    "\n",
    "vec_ab_magnitude = vec_ab_magnitude - head_length\n",
    "\n",
    "ax = plt.axes()\n",
    "\n",
    "ax.arrow(a[0], a[1], vec_ab_magnitude*dx, vec_ab_magnitude*dy, head_width=0.5, head_length=0.7, fc='lightblue', ec='black')\n",
    "\n",
    "plt.scatter(a[0],a[1],color='black')\n",
    "plt.scatter(b[0],b[1],color='black')\n",
    "\n",
    "ax.annotate('A', (a[0]-0.4,a[1]),fontsize=14)\n",
    "ax.annotate('B', (b[0]+0.3,b[1]),fontsize=14)\n",
    "\n",
    "plt.grid()\n",
    "\n",
    "plt.xlim(0,10)\n",
    "plt.ylim(0,10)\n",
    "\n",
    "plt.title('How to plot a vector in matplotlib ?',fontsize=10)\n",
    "\n",
    "#plt.savefig('how_to_plot_a_vector_in_matplotlib_fig2.png', bbox_inches='tight')\n",
    "plt.show()\n",
    "plt.close()"
   ]
  },
  {
   "cell_type": "markdown",
   "metadata": {},
   "source": [
    "## Plot de vetores em 3D"
   ]
  },
  {
   "cell_type": "code",
   "execution_count": 18,
   "metadata": {
    "ExecuteTime": {
     "end_time": "2020-03-28T21:22:50.651963Z",
     "start_time": "2020-03-28T21:22:50.523030Z"
    },
    "scrolled": true
   },
   "outputs": [
    {
     "data": {
      "image/png": "[encoded data removed]",
      "text/plain": [
       "<Figure size 432x288 with 1 Axes>"
      ]
     },
     "metadata": {
      "needs_background": "light"
     },
     "output_type": "display_data"
    }
   ],
   "source": [
    "a = np.array([1, 2, 8])\n",
    "b = np.array([5, 6, 3])\n",
    "\n",
    "subplot3d = plt.subplot(111, projection='3d')\n",
    "x_coords, y_coords, z_coords = zip(a,b)\n",
    "subplot3d.scatter(x_coords, y_coords, z_coords)\n",
    "subplot3d.set_zlim3d([0, 9])\n",
    "plt.show()"
   ]
  },
  {
   "cell_type": "code",
   "execution_count": 19,
   "metadata": {
    "ExecuteTime": {
     "end_time": "2020-03-28T21:23:05.245341Z",
     "start_time": "2020-03-28T21:23:05.120558Z"
    }
   },
   "outputs": [
    {
     "data": {
      "image/png": "[encoded data removed]",
      "text/plain": [
       "<Figure size 432x288 with 1 Axes>"
      ]
     },
     "metadata": {
      "needs_background": "light"
     },
     "output_type": "display_data"
    }
   ],
   "source": [
    "def plot_vectors3d(ax, vectors3d, z0, **options):\n",
    "    for v in vectors3d:\n",
    "        x, y, z = v\n",
    "        ax.plot([x,x], [y,y], [z0, z], color=\"gray\", linestyle='dotted', marker=\".\")\n",
    "    x_coords, y_coords, z_coords = zip(*vectors3d)\n",
    "    ax.scatter(x_coords, y_coords, z_coords, **options)\n",
    "\n",
    "subplot3d = plt.subplot(111, projection='3d')\n",
    "subplot3d.set_zlim([0, 9])\n",
    "plot_vectors3d(subplot3d, [a,b], 0, color=(\"r\",\"b\"))\n",
    "plt.show()\n"
   ]
  },
  {
   "cell_type": "code",
   "execution_count": null,
   "metadata": {},
   "outputs": [],
   "source": []
  },
  {
   "cell_type": "markdown",
   "metadata": {},
   "source": [
    "# Noção de matrizes"
   ]
  },
  {
   "cell_type": "code",
   "execution_count": null,
   "metadata": {},
   "outputs": [],
   "source": []
  },
  {
   "cell_type": "markdown",
   "metadata": {},
   "source": [
    "# Auto vetores e auto valores"
   ]
  },
  {
   "cell_type": "code",
   "execution_count": 64,
   "metadata": {
    "ExecuteTime": {
     "end_time": "2020-03-21T12:32:40.244427Z",
     "start_time": "2020-03-21T12:32:40.236433Z"
    }
   },
   "outputs": [
    {
     "data": {
      "text/plain": [
       "array([ 1. , -0. , -1. , -1.5, -1. ])"
      ]
     },
     "execution_count": 64,
     "metadata": {},
     "output_type": "execute_result"
    }
   ],
   "source": [
    "A = np.array([[ 1, -1,  0,  0,  0],\n",
    "              [-1,  2, -2,  0,  0],\n",
    "              [ 0, -2,  2, -2,  0],\n",
    "              [ 0,  0, -2,  2, -2],\n",
    "              [ 0,  0,  0, -2,  2]])\n",
    "\n",
    "b = np.array([1, 1, 1, 1, 1])\n",
    "\n",
    "x = la.solve(A, b)\n",
    "\n",
    "x"
   ]
  },
  {
   "cell_type": "code",
   "execution_count": 68,
   "metadata": {
    "ExecuteTime": {
     "end_time": "2020-03-21T12:36:30.492484Z",
     "start_time": "2020-03-21T12:36:30.484485Z"
    }
   },
   "outputs": [
    {
     "data": {
      "text/plain": [
       "array([-0.23470083, -0.54079707, -0.77609977, -0.74139641, -0.44876034])"
      ]
     },
     "execution_count": 68,
     "metadata": {},
     "output_type": "execute_result"
    }
   ],
   "source": [
    "lam,v = la.eig(A)\n",
    "\n",
    "np.dot(A, v[:, 0])"
   ]
  },
  {
   "cell_type": "code",
   "execution_count": 71,
   "metadata": {
    "ExecuteTime": {
     "end_time": "2020-03-21T12:37:14.272483Z",
     "start_time": "2020-03-21T12:37:14.266520Z"
    }
   },
   "outputs": [
    {
     "data": {
      "text/plain": [
       "array([ 0.17995803, -0.63787995, -0.69897478,  0.09269383, -0.25212376])"
      ]
     },
     "execution_count": 71,
     "metadata": {},
     "output_type": "execute_result"
    }
   ],
   "source": [
    "v[0]\n",
    "\n",
    "# Tente imprimir também as "
   ]
  },
  {
   "cell_type": "code",
   "execution_count": 13,
   "metadata": {
    "ExecuteTime": {
     "end_time": "2020-03-04T11:42:34.280997Z",
     "start_time": "2020-03-04T11:42:34.268740Z"
    },
    "scrolled": true
   },
   "outputs": [
    {
     "name": "stdout",
     "output_type": "stream",
     "text": [
      "Determining the eigen values (A - lambda*I)*v = 0\n",
      "The eigen values of\n",
      " [[ 1 -1  0  0  0]\n",
      " [-1  2 -2  0  0]\n",
      " [ 0 -2  2 -2  0]\n",
      " [ 0  0 -2  2 -2]\n",
      " [ 0  0  0 -2  2]] \n",
      "are (array([-1.30419756,  0.24599833,  1.39419206,  5.270692  ,  3.39331517]), array([[ 0.17995803, -0.63787995, -0.69897478,  0.09269383, -0.25212376],\n",
      "       [ 0.41465886, -0.48096255,  0.27553031, -0.39586681,  0.60341162],\n",
      "       [ 0.59507838, -0.10286458,  0.43294661,  0.60103229, -0.2943094 ],\n",
      "       [ 0.5684694 ,  0.39075022, -0.14438906, -0.58702894, -0.39837874],\n",
      "       [ 0.34408923,  0.44555285, -0.47668263,  0.35896314,  0.57184297]]))\n",
      "\n",
      "The corresponding eigen vectors are\n",
      " [[ 0.17995803 -0.63787995 -0.69897478  0.09269383 -0.25212376]\n",
      " [ 0.41465886 -0.48096255  0.27553031 -0.39586681  0.60341162]\n",
      " [ 0.59507838 -0.10286458  0.43294661  0.60103229 -0.2943094 ]\n",
      " [ 0.5684694   0.39075022 -0.14438906 -0.58702894 -0.39837874]\n",
      " [ 0.34408923  0.44555285 -0.47668263  0.35896314  0.57184297]]\n",
      "\n",
      "Quick Test:\n",
      " (A*v = lambda*v):\n",
      " [-0.23470083 -0.54079707 -0.77609977 -0.74139641 -0.44876034] =\n",
      " [-0.23470083  0.10200539  0.82965355  2.99622715  1.16760322]\n"
     ]
    }
   ],
   "source": [
    "lam = la.eig(A)\n",
    "\n",
    "print(\"Determining the eigen values (A - lambda*I)*v = 0\")\n",
    "print(\"The eigen values of\\n\", A, \"\\nare\", lam)\n",
    "print(\"\\nThe corresponding eigen vectors are\\n\", v)\n",
    "print(\"\\nQuick Test:\\n\", \"(A*v = lambda*v):\\n\", np.dot(A, v[:, 0]), \"=\\n\", lam[0] * v[:, 0])"
   ]
  },
  {
   "cell_type": "code",
   "execution_count": 66,
   "metadata": {
    "ExecuteTime": {
     "end_time": "2020-03-21T12:33:32.734612Z",
     "start_time": "2020-03-21T12:33:32.716614Z"
    }
   },
   "outputs": [
    {
     "name": "stdout",
     "output_type": "stream",
     "text": [
      "Determining the eigen values (A - lambda*I)*v = 0\n",
      "The eigen values of\n",
      " [[ 1 -1  0  0  0]\n",
      " [-1  2 -2  0  0]\n",
      " [ 0 -2  2 -2  0]\n",
      " [ 0  0 -2  2 -2]\n",
      " [ 0  0  0 -2  2]] \n",
      "are (array([-1.30419756,  0.24599833,  1.39419206,  5.270692  ,  3.39331517]), array([[ 0.17995803, -0.63787995, -0.69897478,  0.09269383, -0.25212376],\n",
      "       [ 0.41465886, -0.48096255,  0.27553031, -0.39586681,  0.60341162],\n",
      "       [ 0.59507838, -0.10286458,  0.43294661,  0.60103229, -0.2943094 ],\n",
      "       [ 0.5684694 ,  0.39075022, -0.14438906, -0.58702894, -0.39837874],\n",
      "       [ 0.34408923,  0.44555285, -0.47668263,  0.35896314,  0.57184297]]))\n",
      "\n",
      "The corresponding eigen vectors are\n",
      " [ 4 -2  2]\n"
     ]
    },
    {
     "ename": "IndexError",
     "evalue": "too many indices for array",
     "output_type": "error",
     "traceback": [
      "\u001b[1;31m---------------------------------------------------------------------------\u001b[0m",
      "\u001b[1;31mIndexError\u001b[0m                                Traceback (most recent call last)",
      "\u001b[1;32m<ipython-input-66-65bf672fdd7c>\u001b[0m in \u001b[0;36m<module>\u001b[1;34m\u001b[0m\n\u001b[0;32m      4\u001b[0m \u001b[0mprint\u001b[0m\u001b[1;33m(\u001b[0m\u001b[1;34m\"The eigen values of\\n\"\u001b[0m\u001b[1;33m,\u001b[0m \u001b[0mA\u001b[0m\u001b[1;33m,\u001b[0m \u001b[1;34m\"\\nare\"\u001b[0m\u001b[1;33m,\u001b[0m \u001b[0mlam\u001b[0m\u001b[1;33m)\u001b[0m\u001b[1;33m\u001b[0m\u001b[1;33m\u001b[0m\u001b[0m\n\u001b[0;32m      5\u001b[0m \u001b[0mprint\u001b[0m\u001b[1;33m(\u001b[0m\u001b[1;34m\"\\nThe corresponding eigen vectors are\\n\"\u001b[0m\u001b[1;33m,\u001b[0m \u001b[0mv\u001b[0m\u001b[1;33m)\u001b[0m\u001b[1;33m\u001b[0m\u001b[1;33m\u001b[0m\u001b[0m\n\u001b[1;32m----> 6\u001b[1;33m \u001b[0mprint\u001b[0m\u001b[1;33m(\u001b[0m\u001b[1;34m\"\\nQuick Test:\\n\"\u001b[0m\u001b[1;33m,\u001b[0m \u001b[1;34m\"(A*v = lambda*v):\\n\"\u001b[0m\u001b[1;33m,\u001b[0m \u001b[0mnp\u001b[0m\u001b[1;33m.\u001b[0m\u001b[0mdot\u001b[0m\u001b[1;33m(\u001b[0m\u001b[0mA\u001b[0m\u001b[1;33m,\u001b[0m \u001b[0mv\u001b[0m\u001b[1;33m[\u001b[0m\u001b[1;33m:\u001b[0m\u001b[1;33m,\u001b[0m \u001b[1;36m0\u001b[0m\u001b[1;33m]\u001b[0m\u001b[1;33m)\u001b[0m\u001b[1;33m,\u001b[0m \u001b[1;34m\"=\\n\"\u001b[0m\u001b[1;33m,\u001b[0m \u001b[0mlam\u001b[0m\u001b[1;33m[\u001b[0m\u001b[1;36m0\u001b[0m\u001b[1;33m]\u001b[0m \u001b[1;33m*\u001b[0m \u001b[0mv\u001b[0m\u001b[1;33m[\u001b[0m\u001b[1;33m:\u001b[0m\u001b[1;33m,\u001b[0m \u001b[1;36m0\u001b[0m\u001b[1;33m]\u001b[0m\u001b[1;33m)\u001b[0m\u001b[1;33m\u001b[0m\u001b[1;33m\u001b[0m\u001b[0m\n\u001b[0m",
      "\u001b[1;31mIndexError\u001b[0m: too many indices for array"
     ]
    }
   ],
   "source": [
    "lam = la.eig(A)\n",
    "\n",
    "print(\"Determining the eigen values (A - lambda*I)*v = 0\")\n",
    "print(\"The eigen values of\\n\", A, \"\\nare\", lam)\n",
    "print(\"\\nThe corresponding eigen vectors are\\n\", v)\n",
    "print(\"\\nQuick Test:\\n\", \"(A*v = lambda*v):\\n\", np.dot(A, v[:, 0]), \"=\\n\", lam[0] * v[:, 0])"
   ]
  },
  {
   "cell_type": "code",
   "execution_count": null,
   "metadata": {},
   "outputs": [],
   "source": []
  }
 ],
 "metadata": {
  "kernelspec": {
   "display_name": "Python 3",
   "language": "python",
   "name": "python3"
  },
  "language_info": {
   "codemirror_mode": {
    "name": "ipython",
    "version": 3
   },
   "file_extension": ".py",
   "mimetype": "text/x-python",
   "name": "python",
   "nbconvert_exporter": "python",
   "pygments_lexer": "ipython3",
   "version": "3.8.3"
  },
  "latex_envs": {
   "LaTeX_envs_menu_present": true,
   "autoclose": false,
   "autocomplete": true,
   "bibliofile": "biblio.bib",
   "cite_by": "apalike",
   "current_citInitial": 1,
   "eqLabelWithNumbers": true,
   "eqNumInitial": 1,
   "hotkeys": {
    "equation": "Ctrl-E",
    "itemize": "Ctrl-I"
   },
   "labels_anchors": false,
   "latex_user_defs": false,
   "report_style_numbering": false,
   "user_envs_cfg": false
  },
  "toc": {
   "base_numbering": 1,
   "nav_menu": {},
   "number_sections": true,
   "sideBar": true,
   "skip_h1_title": false,
   "title_cell": "Table of Contents",
   "title_sidebar": "Contents",
   "toc_cell": false,
   "toc_position": {},
   "toc_section_display": true,
   "toc_window_display": false
  },
  "varInspector": {
   "cols": {
    "lenName": 16,
    "lenType": 16,
    "lenVar": 40
   },
   "kernels_config": {
    "python": {
     "delete_cmd_postfix": "",
     "delete_cmd_prefix": "del ",
     "library": "var_list.py",
     "varRefreshCmd": "print(var_dic_list())"
    },
    "r": {
     "delete_cmd_postfix": ") ",
     "delete_cmd_prefix": "rm(",
     "library": "var_list.r",
     "varRefreshCmd": "cat(var_dic_list()) "
    }
   },
   "types_to_exclude": [
    "module",
    "function",
    "builtin_function_or_method",
    "instance",
    "_Feature"
   ],
   "window_display": false
  }
 },
 "nbformat": 4,
 "nbformat_minor": 2
}
