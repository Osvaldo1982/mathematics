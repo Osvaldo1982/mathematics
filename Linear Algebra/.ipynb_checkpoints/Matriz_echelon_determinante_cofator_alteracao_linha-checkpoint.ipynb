{
 "cells": [
  {
   "cell_type": "code",
   "execution_count": 8,
   "metadata": {
    "ExecuteTime": {
     "end_time": "2020-12-17T13:42:16.501942Z",
     "start_time": "2020-12-17T13:42:15.721944Z"
    }
   },
   "outputs": [],
   "source": [
    "import pandas as pd\n",
    "import numpy as np\n",
    "import matplotlib.pyplot as plt\n",
    "import scipy.linalg as la\n",
    "from sympy import Matrix, symbols\n",
    "%matplotlib inline"
   ]
  },
  {
   "cell_type": "markdown",
   "metadata": {},
   "source": [
    "Neste exemplo vamos analisar como o determinante de uma matriz 3x3 é afetado ao realizarmos operações com suas linhas. Dada a matriz abaixo com entradas de valores reais.\n",
    "\n",
    "\\[\n",
    "A = \n",
    "\\begin{pmatrix}\n",
    "a & b & c\\\\\n",
    "d & e & f \\\\\n",
    "g & h & k\n",
    "\\end{pmatrix} \\, ,\n",
    "\\]\n",
    "\n",
    "Vamos primeiro definir esta matriz:"
   ]
  },
  {
   "cell_type": "code",
   "execution_count": 70,
   "metadata": {
    "ExecuteTime": {
     "end_time": "2020-12-17T14:59:53.989917Z",
     "start_time": "2020-12-17T14:59:53.978951Z"
    }
   },
   "outputs": [
    {
     "data": {
      "text/latex": [
       "$\\displaystyle \\left[\\begin{matrix}a & b & c\\\\d & e & f\\\\g & h & k\\end{matrix}\\right]$"
      ],
      "text/plain": [
       "Matrix([\n",
       "[a, b, c],\n",
       "[d, e, f],\n",
       "[g, h, k]])"
      ]
     },
     "execution_count": 70,
     "metadata": {},
     "output_type": "execute_result"
    }
   ],
   "source": [
    "# Definimos os símbolos\n",
    "a, b, c, d, e, f, g, h, k = symbols('a b c d e f g h k')\n",
    "\n",
    "# Definimos a matriz\n",
    "A = Matrix([[a, b, c], [d, e, f], [g, h, k]])\n",
    "\n",
    "A"
   ]
  },
  {
   "cell_type": "code",
   "execution_count": 71,
   "metadata": {
    "ExecuteTime": {
     "end_time": "2020-12-17T14:59:59.563122Z",
     "start_time": "2020-12-17T14:59:59.551116Z"
    }
   },
   "outputs": [
    {
     "data": {
      "text/latex": [
       "$\\displaystyle a e k - a f h - b d k + b f g + c d h - c e g$"
      ],
      "text/plain": [
       "a*e*k - a*f*h - b*d*k + b*f*g + c*d*h - c*e*g"
      ]
     },
     "execution_count": 71,
     "metadata": {},
     "output_type": "execute_result"
    }
   ],
   "source": [
    "# Calculamos o determinante desta matriz\n",
    "A.det()"
   ]
  },
  {
   "cell_type": "markdown",
   "metadata": {},
   "source": [
    "Vamos primeiro entender como podemos realizar operações de somas de linhas da matriz A utilizando outras matrizes. Como primeiro exemplo, vamos deifnir a matriz abaixo\n",
    "\n",
    "\\[\n",
    "E_1 = \n",
    "\\begin{pmatrix}\n",
    "1 & 0 & 1\\\\\n",
    "0 & 1 & 0 \\\\\n",
    "0 & 0 & 1\n",
    "\\end{pmatrix} \\, ,\n",
    "\\]\n",
    "\n",
    "e verificar o resultado desta matriz pela esquerda com a matriz A, ou seja o resultado de $E_1 @ A$."
   ]
  },
  {
   "cell_type": "code",
   "execution_count": 79,
   "metadata": {
    "ExecuteTime": {
     "end_time": "2020-12-17T19:38:32.505637Z",
     "start_time": "2020-12-17T19:38:32.498642Z"
    }
   },
   "outputs": [
    {
     "data": {
      "text/latex": [
       "$\\displaystyle \\left[\\begin{matrix}1 & 0 & 1\\\\0 & 1 & 0\\\\0 & 0 & 1\\end{matrix}\\right]$"
      ],
      "text/plain": [
       "Matrix([\n",
       "[1, 0, 1],\n",
       "[0, 1, 0],\n",
       "[0, 0, 1]])"
      ]
     },
     "execution_count": 79,
     "metadata": {},
     "output_type": "execute_result"
    }
   ],
   "source": [
    "E1 = Matrix([[1, 0, 1], [0, 1, 0], [0, 0, 1]])\n",
    "E1"
   ]
  },
  {
   "cell_type": "markdown",
   "metadata": {},
   "source": [
    "Note que ao realizarmos a operação matricial $E_1 @ A$, nós somamos a terceira linha da matriz A à primeira linha."
   ]
  },
  {
   "cell_type": "code",
   "execution_count": 80,
   "metadata": {
    "ExecuteTime": {
     "end_time": "2020-12-17T19:38:36.001462Z",
     "start_time": "2020-12-17T19:38:35.991470Z"
    }
   },
   "outputs": [
    {
     "data": {
      "text/latex": [
       "$\\displaystyle \\left[\\begin{matrix}a + g & b + h & c + k\\\\d & e & f\\\\g & h & k\\end{matrix}\\right]$"
      ],
      "text/plain": [
       "Matrix([\n",
       "[a + g, b + h, c + k],\n",
       "[    d,     e,     f],\n",
       "[    g,     h,     k]])"
      ]
     },
     "execution_count": 80,
     "metadata": {},
     "output_type": "execute_result"
    }
   ],
   "source": [
    "E1 @ A"
   ]
  },
  {
   "cell_type": "markdown",
   "metadata": {},
   "source": [
    "Vamos ver agora o que acontece se ao invés de colocarmos o valor 1 na célula $E_{02}$ e definir uma nova matriz $E_2$\n",
    "\n",
    "\\[\n",
    "E_2 = \n",
    "\\begin{pmatrix}\n",
    "1 & 0 & 2\\\\\n",
    "0 & 1 & 0 \\\\\n",
    "0 & 0 & 1\n",
    "\\end{pmatrix} \\, ,\n",
    "\\]\n",
    "\n",
    "o que acontece com o produto $E_2 @ A$"
   ]
  },
  {
   "cell_type": "code",
   "execution_count": 81,
   "metadata": {
    "ExecuteTime": {
     "end_time": "2020-12-17T19:38:50.272306Z",
     "start_time": "2020-12-17T19:38:50.260344Z"
    }
   },
   "outputs": [
    {
     "data": {
      "text/latex": [
       "$\\displaystyle \\left[\\begin{matrix}1 & 0 & 2\\\\0 & 1 & 0\\\\0 & 0 & 1\\end{matrix}\\right]$"
      ],
      "text/plain": [
       "Matrix([\n",
       "[1, 0, 2],\n",
       "[0, 1, 0],\n",
       "[0, 0, 1]])"
      ]
     },
     "execution_count": 81,
     "metadata": {},
     "output_type": "execute_result"
    }
   ],
   "source": [
    "E2 = Matrix([[1, 0, 2], [0, 1, 0], [0, 0, 1]])\n",
    "E2"
   ]
  },
  {
   "cell_type": "code",
   "execution_count": 82,
   "metadata": {
    "ExecuteTime": {
     "end_time": "2020-12-17T19:38:56.544101Z",
     "start_time": "2020-12-17T19:38:56.524125Z"
    }
   },
   "outputs": [
    {
     "data": {
      "text/latex": [
       "$\\displaystyle \\left[\\begin{matrix}a + 2 g & b + 2 h & c + 2 k\\\\d & e & f\\\\g & h & k\\end{matrix}\\right]$"
      ],
      "text/plain": [
       "Matrix([\n",
       "[a + 2*g, b + 2*h, c + 2*k],\n",
       "[      d,       e,       f],\n",
       "[      g,       h,       k]])"
      ]
     },
     "execution_count": 82,
     "metadata": {},
     "output_type": "execute_result"
    }
   ],
   "source": [
    "E2 @ A"
   ]
  },
  {
   "cell_type": "markdown",
   "metadata": {},
   "source": [
    "Agora vamos definir a matriz\n",
    "\n",
    "\\[\n",
    "E_3 = \n",
    "\\begin{pmatrix}\n",
    "2 & 0 & 0\\\\\n",
    "0 & 1 & 0 \\\\\n",
    "0 & 0 & 1\n",
    "\\end{pmatrix} \\, ,\n",
    "\\]"
   ]
  },
  {
   "cell_type": "code",
   "execution_count": 84,
   "metadata": {
    "ExecuteTime": {
     "end_time": "2020-12-17T19:43:27.743264Z",
     "start_time": "2020-12-17T19:43:27.735285Z"
    }
   },
   "outputs": [
    {
     "data": {
      "text/latex": [
       "$\\displaystyle \\left[\\begin{matrix}2 & 0 & 0\\\\0 & 1 & 0\\\\0 & 0 & 1\\end{matrix}\\right]$"
      ],
      "text/plain": [
       "Matrix([\n",
       "[2, 0, 0],\n",
       "[0, 1, 0],\n",
       "[0, 0, 1]])"
      ]
     },
     "execution_count": 84,
     "metadata": {},
     "output_type": "execute_result"
    }
   ],
   "source": [
    "E3 = Matrix([[2, 0, 0], [0, 1, 0], [0, 0, 1]])\n",
    "E3"
   ]
  },
  {
   "cell_type": "code",
   "execution_count": 85,
   "metadata": {
    "ExecuteTime": {
     "end_time": "2020-12-17T19:43:33.220085Z",
     "start_time": "2020-12-17T19:43:33.213136Z"
    }
   },
   "outputs": [
    {
     "data": {
      "text/latex": [
       "$\\displaystyle \\left[\\begin{matrix}2 a & 2 b & 2 c\\\\d & e & f\\\\g & h & k\\end{matrix}\\right]$"
      ],
      "text/plain": [
       "Matrix([\n",
       "[2*a, 2*b, 2*c],\n",
       "[  d,   e,   f],\n",
       "[  g,   h,   k]])"
      ]
     },
     "execution_count": 85,
     "metadata": {},
     "output_type": "execute_result"
    }
   ],
   "source": [
    "E3 @ A"
   ]
  },
  {
   "cell_type": "markdown",
   "metadata": {},
   "source": [
    "Agora vamos definir a seguinte matriz\n",
    "\n",
    "\\[\n",
    "E_4 = \n",
    "\\begin{pmatrix}\n",
    "g & 0 & - a\\\\\n",
    "0 & 1 & 0 \\\\\n",
    "0 & 0 & 1\n",
    "\\end{pmatrix} \\, ,\n",
    "\\]\n",
    "\n",
    "e o resultado da multiplicação $E_4 @ A$ deve ser a primeira linha sofrendo a seguinte atualização:\n",
    "\n",
    "\\[\n",
    "r_1 \\to g r_1 - a r_3.\n",
    "\\]\n",
    "\n",
    "Ao calcularmos o determinante desta nova matriz identificaremos que essa operação irá multiplicar o valor do determinante da matriz original por $g$."
   ]
  },
  {
   "cell_type": "code",
   "execution_count": 87,
   "metadata": {
    "ExecuteTime": {
     "end_time": "2020-12-17T19:53:20.082233Z",
     "start_time": "2020-12-17T19:53:20.073257Z"
    }
   },
   "outputs": [
    {
     "data": {
      "text/latex": [
       "$\\displaystyle \\left[\\begin{matrix}g & 0 & - a\\\\0 & 1 & 0\\\\0 & 0 & 1\\end{matrix}\\right]$"
      ],
      "text/plain": [
       "Matrix([\n",
       "[g, 0, -a],\n",
       "[0, 1,  0],\n",
       "[0, 0,  1]])"
      ]
     },
     "execution_count": 87,
     "metadata": {},
     "output_type": "execute_result"
    }
   ],
   "source": [
    "E4 = Matrix([[g, 0, -a], [0, 1, 0], [0, 0, 1]])\n",
    "E4"
   ]
  },
  {
   "cell_type": "code",
   "execution_count": 88,
   "metadata": {
    "ExecuteTime": {
     "end_time": "2020-12-17T19:53:30.430390Z",
     "start_time": "2020-12-17T19:53:30.414472Z"
    }
   },
   "outputs": [
    {
     "data": {
      "text/latex": [
       "$\\displaystyle \\left[\\begin{matrix}0 & - a h + b g & - a k + c g\\\\d & e & f\\\\g & h & k\\end{matrix}\\right]$"
      ],
      "text/plain": [
       "Matrix([\n",
       "[0, -a*h + b*g, -a*k + c*g],\n",
       "[d,          e,          f],\n",
       "[g,          h,          k]])"
      ]
     },
     "execution_count": 88,
     "metadata": {},
     "output_type": "execute_result"
    }
   ],
   "source": [
    "E4 @ A"
   ]
  },
  {
   "cell_type": "code",
   "execution_count": 90,
   "metadata": {
    "ExecuteTime": {
     "end_time": "2020-12-17T19:54:02.338539Z",
     "start_time": "2020-12-17T19:54:02.274675Z"
    }
   },
   "outputs": [
    {
     "data": {
      "text/latex": [
       "$\\displaystyle g \\left(a e k - a f h - b d k + b f g + c d h - c e g\\right)$"
      ],
      "text/plain": [
       "g*(a*e*k - a*f*h - b*d*k + b*f*g + c*d*h - c*e*g)"
      ]
     },
     "execution_count": 90,
     "metadata": {},
     "output_type": "execute_result"
    }
   ],
   "source": [
    "(E4 @ A).det().factor()"
   ]
  },
  {
   "cell_type": "code",
   "execution_count": 91,
   "metadata": {
    "ExecuteTime": {
     "end_time": "2020-12-17T19:54:13.277300Z",
     "start_time": "2020-12-17T19:54:13.264299Z"
    }
   },
   "outputs": [
    {
     "data": {
      "text/latex": [
       "$\\displaystyle a e k - a f h - b d k + b f g + c d h - c e g$"
      ],
      "text/plain": [
       "a*e*k - a*f*h - b*d*k + b*f*g + c*d*h - c*e*g"
      ]
     },
     "execution_count": 91,
     "metadata": {},
     "output_type": "execute_result"
    }
   ],
   "source": [
    "A.det()"
   ]
  },
  {
   "cell_type": "markdown",
   "metadata": {},
   "source": [
    "# References\n",
    "\n",
    "* https://www.tutorialspoint.com/matrix-manipulation-in-python\n",
    "* https://www.oreilly.com/library/view/machine-learning-with/9781491989371/ch01.html \n",
    "* https://www.math.ubc.ca/~pwalls/math-python/linear-algebra/linear-algebra-scipy/\n",
    "* https://scipy-lectures.org/intro/numpy/operations.html\n",
    "* https://www.mat.uniroma2.it/~speleers/teaching/labcalc/slides_python_5.pdf\n",
    "* http://math.byu.edu/~nick/fall-19-495R-labs.pdf\n",
    "* https://www.math.ucdavis.edu/~linear/linear-guest.pdf\n",
    "* https://cheatography.com/royqh1979/cheat-sheets/linear-algebra-using-sympy/\n",
    "* https://web.stanford.edu/class/cs231a/section/section1.pdf\n",
    "* https://people.duke.edu/~ccc14/pcfb/numpympl/LinearAlgebra.html\n",
    "* https://python.quantecon.org/linear_algebra.html\n",
    "* https://cgi.csc.liv.ac.uk/~xiaowei/ai_materials_2019/5-Linear-Algebra-Scientific-Python.pdf\n",
    "* https://www.datacamp.com/community/blog/python-scipy-cheat-sheet\n",
    "* http://115.28.130.42/numpy/reference/routines.linalg.html\n",
    "* https://www.ntnu.no/wiki/display/imtsoftware/Matrices+and+linear+algebra+in+Python\n",
    "* https://refactored.ai/microcourse/notebook?path=content%2F04-Math_and_Stats_for_Data_Science%2F02-Introduction_to_linear_algebra%2F03-Introduction_to_Matrices.ipynb"
   ]
  },
  {
   "cell_type": "code",
   "execution_count": null,
   "metadata": {},
   "outputs": [],
   "source": []
  }
 ],
 "metadata": {
  "kernelspec": {
   "display_name": "Python 3",
   "language": "python",
   "name": "python3"
  },
  "language_info": {
   "codemirror_mode": {
    "name": "ipython",
    "version": 3
   },
   "file_extension": ".py",
   "mimetype": "text/x-python",
   "name": "python",
   "nbconvert_exporter": "python",
   "pygments_lexer": "ipython3",
   "version": "3.8.3"
  },
  "latex_envs": {
   "LaTeX_envs_menu_present": true,
   "autoclose": false,
   "autocomplete": true,
   "bibliofile": "biblio.bib",
   "cite_by": "apalike",
   "current_citInitial": 1,
   "eqLabelWithNumbers": true,
   "eqNumInitial": 1,
   "hotkeys": {
    "equation": "Ctrl-E",
    "itemize": "Ctrl-I"
   },
   "labels_anchors": false,
   "latex_user_defs": false,
   "report_style_numbering": false,
   "user_envs_cfg": false
  },
  "toc": {
   "base_numbering": 1,
   "nav_menu": {},
   "number_sections": true,
   "sideBar": true,
   "skip_h1_title": false,
   "title_cell": "Table of Contents",
   "title_sidebar": "Contents",
   "toc_cell": false,
   "toc_position": {},
   "toc_section_display": true,
   "toc_window_display": false
  },
  "varInspector": {
   "cols": {
    "lenName": 16,
    "lenType": 16,
    "lenVar": 40
   },
   "kernels_config": {
    "python": {
     "delete_cmd_postfix": "",
     "delete_cmd_prefix": "del ",
     "library": "var_list.py",
     "varRefreshCmd": "print(var_dic_list())"
    },
    "r": {
     "delete_cmd_postfix": ") ",
     "delete_cmd_prefix": "rm(",
     "library": "var_list.r",
     "varRefreshCmd": "cat(var_dic_list()) "
    }
   },
   "types_to_exclude": [
    "module",
    "function",
    "builtin_function_or_method",
    "instance",
    "_Feature"
   ],
   "window_display": false
  }
 },
 "nbformat": 4,
 "nbformat_minor": 4
}
