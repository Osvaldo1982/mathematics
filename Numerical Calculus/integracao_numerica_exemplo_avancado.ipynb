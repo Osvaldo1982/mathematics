{
 "cells": [
  {
   "cell_type": "markdown",
   "metadata": {},
   "source": [
    "# Introdução\n",
    "\n",
    "**Recursos Online**\n",
    "* [More advanced implementation](https://hplgit.github.io/bumpy/doc/pub/._bumpy005.html#___sec6)\n",
    "* []()"
   ]
  },
  {
   "cell_type": "code",
   "execution_count": 1,
   "metadata": {
    "ExecuteTime": {
     "end_time": "2020-04-19T19:59:10.291682Z",
     "start_time": "2020-04-19T19:59:10.273116Z"
    }
   },
   "outputs": [],
   "source": [
    "def solver(I, V, m, b, s, F, t, damping = 'linear'):\n",
    "    \"\"\"\n",
    "    Solve m*u'' + f(u') + s(u) = F for time points in t.\n",
    "    u(0)=I and u'(0)=V,\n",
    "    by a central finite difference method with time step dt.\n",
    "    If damping is 'linear', f(u')=b*u, while if damping is\n",
    "    'quadratic', we have f(u')=b*u'*abs(u').\n",
    "    s(u) is a Python function, while F may be a function\n",
    "    or an array (then F[i] corresponds to F at t[i]).\n",
    "    \"\"\"\n",
    "    N = t.size - 1              # No of time intervals\n",
    "    dt = t[1] - t[0]            # Time step\n",
    "    u = np.zeros(N+1)           # Result array\n",
    "    b = float(b); m = float(m)  # Avoid integer division\n",
    "\n",
    "    # Convert F to array\n",
    "    if callable(F):\n",
    "        F = F(t)\n",
    "    elif isinstance(F, (list,tuple,np.ndarray)):\n",
    "        F = np.asarray(F)\n",
    "    else:\n",
    "        raise TypeError(\n",
    "            'F must be function or array, not %s' % type(F))\n",
    "\n",
    "    u[0] = I\n",
    "    if damping == 'linear':\n",
    "        u[1] = u[0] + dt*V + dt**2/(2*m)*(-b*V - s(u[0]) + F[0])\n",
    "    elif damping == 'quadratic':\n",
    "        u[1] = u[0] + dt*V + dt**2/(2*m)*(-b*V*abs(V) - s(u[0]) + F[0])\n",
    "    else:\n",
    "        raise ValueError('Wrong value: damping=\"%s\"' % damping)\n",
    "\n",
    "    for n in range(1,N):\n",
    "        if damping == 'linear':\n",
    "            u[n+1] = (2*m*u[n] + (b*dt/2 - m)*u[n-1] +\n",
    "                      dt**2*(F[n] - s(u[n])))/(m + b*dt/2)\n",
    "        elif damping == 'quadratic':\n",
    "            u[n+1] = (2*m*u[n] - m*u[n-1] + b*u[n]*abs(u[n] - u[n-1])\n",
    "                      - dt**2*(s(u[n]) - F[n]))/(m + b*abs(u[n] - u[n-1]))\n",
    "    return u, t"
   ]
  },
  {
   "cell_type": "code",
   "execution_count": 3,
   "metadata": {
    "ExecuteTime": {
     "end_time": "2020-04-19T19:59:14.653865Z",
     "start_time": "2020-04-19T19:59:14.499532Z"
    }
   },
   "outputs": [
    {
     "data": {
      "image/png": "[encoded data removed]",
      "text/plain": [
       "<Figure size 432x288 with 1 Axes>"
      ]
     },
     "metadata": {
      "needs_background": "light"
     },
     "output_type": "display_data"
    }
   ],
   "source": [
    "import numpy as np\n",
    "from numpy import sin, pi  # for nice math\n",
    "\n",
    "def F(t):\n",
    "    # Sinusoidal bumpy road\n",
    "    return A * sin(pi*t)\n",
    "\n",
    "def s(u):\n",
    "    return k*u\n",
    "\n",
    "A = 0.25\n",
    "k = 2\n",
    "t = np.linspace(0, 20, 2001)\n",
    "\n",
    "u, t = solver(I=0, V=0, m=2, b=0.05, s=s, F=F, t=t)\n",
    "\n",
    "# Show u(t) as a curve plot\n",
    "import matplotlib.pyplot as plt\n",
    "plt.plot(t, u)\n",
    "plt.show()"
   ]
  },
  {
   "cell_type": "code",
   "execution_count": null,
   "metadata": {},
   "outputs": [],
   "source": []
  }
 ],
 "metadata": {
  "hide_input": false,
  "kernelspec": {
   "display_name": "Python 3",
   "language": "python",
   "name": "python3"
  },
  "language_info": {
   "codemirror_mode": {
    "name": "ipython",
    "version": 3
   },
   "file_extension": ".py",
   "mimetype": "text/x-python",
   "name": "python",
   "nbconvert_exporter": "python",
   "pygments_lexer": "ipython3",
   "version": "3.7.3"
  },
  "latex_envs": {
   "LaTeX_envs_menu_present": true,
   "autoclose": false,
   "autocomplete": true,
   "bibliofile": "biblio.bib",
   "cite_by": "apalike",
   "current_citInitial": 1,
   "eqLabelWithNumbers": true,
   "eqNumInitial": 1,
   "hotkeys": {
    "equation": "Ctrl-E",
    "itemize": "Ctrl-I"
   },
   "labels_anchors": false,
   "latex_user_defs": false,
   "report_style_numbering": false,
   "user_envs_cfg": false
  },
  "toc": {
   "base_numbering": 1,
   "nav_menu": {},
   "number_sections": true,
   "sideBar": true,
   "skip_h1_title": false,
   "title_cell": "Table of Contents",
   "title_sidebar": "Contents",
   "toc_cell": false,
   "toc_position": {},
   "toc_section_display": true,
   "toc_window_display": false
  }
 },
 "nbformat": 4,
 "nbformat_minor": 2
}
