{
 "cells": [
  {
   "cell_type": "code",
   "execution_count": 1,
   "metadata": {
    "ExecuteTime": {
     "end_time": "2020-03-04T11:39:43.786778Z",
     "start_time": "2020-03-04T11:39:43.515277Z"
    }
   },
   "outputs": [
    {
     "name": "stdout",
     "output_type": "stream",
     "text": [
      "The dot product of [1 0 0] and [1 0 0] is 1.\n"
     ]
    }
   ],
   "source": [
    "import numpy as np\n",
    "import numpy.linalg as la\n",
    "import os\n",
    "\n",
    "msg = \"The {} product of {} and {} is {}.\"\n",
    "vector1 = np.array([1, 0, 0])\n",
    "vector2 = vector1\n",
    "\n",
    "print(msg.format('dot', vector1, vector2, np.dot(vector1, vector2)))"
   ]
  },
  {
   "cell_type": "code",
   "execution_count": 2,
   "metadata": {
    "ExecuteTime": {
     "end_time": "2020-03-04T11:39:58.037758Z",
     "start_time": "2020-03-04T11:39:58.030058Z"
    }
   },
   "outputs": [
    {
     "name": "stdout",
     "output_type": "stream",
     "text": [
      "The dot product of [1 0 0] and [0 1 0] is 0.\n"
     ]
    }
   ],
   "source": [
    "vector1 = np.array([1, 0, 0])\n",
    "vector2 = np.array([0, 1, 0])\n",
    "print(msg.format('dot', vector1, vector2, np.dot(vector1, vector2)))"
   ]
  },
  {
   "cell_type": "code",
   "execution_count": 3,
   "metadata": {
    "ExecuteTime": {
     "end_time": "2020-03-04T11:40:11.309735Z",
     "start_time": "2020-03-04T11:40:11.300958Z"
    }
   },
   "outputs": [
    {
     "name": "stdout",
     "output_type": "stream",
     "text": [
      "The dot product of [2 4 6] and [1 1 1] is 12.\n"
     ]
    }
   ],
   "source": [
    "vector1 = np.array([2, 4, 6])\n",
    "vector2 = np.array([1, 1, 1])\n",
    "print(msg.format('dot', vector1, vector2, np.dot(vector1, vector2)))"
   ]
  },
  {
   "cell_type": "code",
   "execution_count": 4,
   "metadata": {
    "ExecuteTime": {
     "end_time": "2020-03-04T11:40:30.789483Z",
     "start_time": "2020-03-04T11:40:30.783242Z"
    }
   },
   "outputs": [
    {
     "name": "stdout",
     "output_type": "stream",
     "text": [
      "The dot product of [1 0 0] and [1 0 0] is 1.\n"
     ]
    }
   ],
   "source": [
    "vector1 = np.array([1, 0, 0])\n",
    "vector2 = vector1\n",
    "print(msg.format('dot', vector1, vector2, np.dot(vector1, vector2)))"
   ]
  },
  {
   "cell_type": "code",
   "execution_count": 5,
   "metadata": {
    "ExecuteTime": {
     "end_time": "2020-03-04T11:40:43.152042Z",
     "start_time": "2020-03-04T11:40:43.142536Z"
    }
   },
   "outputs": [
    {
     "name": "stdout",
     "output_type": "stream",
     "text": [
      "The cross product of [1 0 0] and [0 1 0] is [0 0 1].\n"
     ]
    }
   ],
   "source": [
    "vector1 = np.array([1, 0, 0])\n",
    "vector2 = np.array([0, 1, 0])\n",
    "print(msg.format('cross', vector1, vector2, np.cross(vector1, vector2)))"
   ]
  },
  {
   "cell_type": "code",
   "execution_count": 6,
   "metadata": {
    "ExecuteTime": {
     "end_time": "2020-03-04T11:41:02.467423Z",
     "start_time": "2020-03-04T11:41:02.459018Z"
    }
   },
   "outputs": [
    {
     "name": "stdout",
     "output_type": "stream",
     "text": [
      "The cross product of [2 4 6] and [1 1 1] is [-2  4 -2].\n"
     ]
    }
   ],
   "source": [
    "vector1 = np.array([2, 4, 6])\n",
    "vector2 = np.array([1, 1, 1])\n",
    "print(msg.format('cross', vector1, vector2, np.cross(vector1, vector2)))"
   ]
  },
  {
   "cell_type": "code",
   "execution_count": 7,
   "metadata": {
    "ExecuteTime": {
     "end_time": "2020-03-04T11:41:13.237876Z",
     "start_time": "2020-03-04T11:41:13.198964Z"
    }
   },
   "outputs": [
    {
     "name": "stdout",
     "output_type": "stream",
     "text": [
      "Solving system of linear equations (Ax = b)\n",
      "The solution of\n",
      " [[ 1 -1  0  0  0]\n",
      " [-1  2 -2  0  0]\n",
      " [ 0 -2  2 -2  0]\n",
      " [ 0  0 -2  2 -2]\n",
      " [ 0  0  0 -2  2]] [x1, x1, x3, x4, x5] = [1 1 1 1 1]\n",
      " is [ 1.  -0.  -1.  -1.5 -1. ]\n"
     ]
    }
   ],
   "source": [
    "print (\"Solving system of linear equations (Ax = b)\")\n",
    "A = np.array([[ 1, -1,  0,  0,  0],\n",
    "              [-1,  2, -2,  0,  0],\n",
    "              [ 0, -2,  2, -2,  0],\n",
    "              [ 0,  0, -2,  2, -2],\n",
    "              [ 0,  0,  0, -2,  2]])\n",
    "b = np.array([1, 1, 1, 1, 1])\n",
    "x = la.solve(A, b)\n",
    "\n",
    "msg = \"The solution of\\n {} {} = {}\\n is {}\"\n",
    "print(msg.format(A, \"[x1, x1, x3, x4, x5]\", b, x))"
   ]
  },
  {
   "cell_type": "code",
   "execution_count": 12,
   "metadata": {
    "ExecuteTime": {
     "end_time": "2020-03-04T11:42:26.384361Z",
     "start_time": "2020-03-04T11:42:26.374244Z"
    }
   },
   "outputs": [
    {
     "name": "stdout",
     "output_type": "stream",
     "text": [
      "Determining the eigen values (A - lambda*I)*v = 0\n",
      "The eigen values of\n",
      " [[ 1 -1  0  0  0]\n",
      " [-1  2 -2  0  0]\n",
      " [ 0 -2  2 -2  0]\n",
      " [ 0  0 -2  2 -2]\n",
      " [ 0  0  0 -2  2]] \n",
      "are [-1.30419756  0.24599833  1.39419206  5.270692    3.39331517]\n",
      "\n",
      "The corresponding eigen vectors are\n",
      " [[ 0.17995803 -0.63787995 -0.69897478  0.09269383 -0.25212376]\n",
      " [ 0.41465886 -0.48096255  0.27553031 -0.39586681  0.60341162]\n",
      " [ 0.59507838 -0.10286458  0.43294661  0.60103229 -0.2943094 ]\n",
      " [ 0.5684694   0.39075022 -0.14438906 -0.58702894 -0.39837874]\n",
      " [ 0.34408923  0.44555285 -0.47668263  0.35896314  0.57184297]]\n",
      "\n",
      "Quick Test:\n",
      " (A*v = lambda*v):\n",
      " [-0.23470083 -0.54079707 -0.77609977 -0.74139641 -0.44876034] =\n",
      " [-0.23470083 -0.54079707 -0.77609977 -0.74139641 -0.44876034]\n"
     ]
    }
   ],
   "source": [
    "lam, v = la.eig(A)\n",
    "\n",
    "print(\"Determining the eigen values (A - lambda*I)*v = 0\")\n",
    "print(\"The eigen values of\\n\", A, \"\\nare\", lam)\n",
    "print(\"\\nThe corresponding eigen vectors are\\n\", v)\n",
    "print(\"\\nQuick Test:\\n\", \"(A*v = lambda*v):\\n\", np.dot(A, v[:, 0]), \"=\\n\", lam[0] * v[:, 0])"
   ]
  },
  {
   "cell_type": "code",
   "execution_count": null,
   "metadata": {},
   "outputs": [],
   "source": []
  }
 ],
 "metadata": {
  "hide_input": false,
  "kernelspec": {
   "display_name": "Python 3",
   "language": "python",
   "name": "python3"
  },
  "language_info": {
   "codemirror_mode": {
    "name": "ipython",
    "version": 3
   },
   "file_extension": ".py",
   "mimetype": "text/x-python",
   "name": "python",
   "nbconvert_exporter": "python",
   "pygments_lexer": "ipython3",
   "version": "3.7.3"
  },
  "latex_envs": {
   "LaTeX_envs_menu_present": true,
   "autoclose": false,
   "autocomplete": true,
   "bibliofile": "biblio.bib",
   "cite_by": "apalike",
   "current_citInitial": 1,
   "eqLabelWithNumbers": true,
   "eqNumInitial": 1,
   "hotkeys": {
    "equation": "Ctrl-E",
    "itemize": "Ctrl-I"
   },
   "labels_anchors": false,
   "latex_user_defs": false,
   "report_style_numbering": false,
   "user_envs_cfg": false
  },
  "toc": {
   "base_numbering": 1,
   "nav_menu": {},
   "number_sections": true,
   "sideBar": true,
   "skip_h1_title": false,
   "title_cell": "Table of Contents",
   "title_sidebar": "Contents",
   "toc_cell": false,
   "toc_position": {},
   "toc_section_display": true,
   "toc_window_display": false
  }
 },
 "nbformat": 4,
 "nbformat_minor": 2
}
